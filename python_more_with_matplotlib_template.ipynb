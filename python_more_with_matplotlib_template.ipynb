{
  "cells": [
    {
      "cell_type": "markdown",
      "metadata": {
        "id": "view-in-github",
        "colab_type": "text"
      },
      "source": [
        "<a href=\"https://colab.research.google.com/github/kwaldenphd/more-with-matplotlib/blob/main/python_more_with_matplotlib_template.ipynb\" target=\"_parent\"><img src=\"https://colab.research.google.com/assets/colab-badge.svg\" alt=\"Open In Colab\"/></a>"
      ]
    },
    {
      "cell_type": "markdown",
      "source": [
        "# More With Matplotlib (EoC)\n",
        "\n",
        "Student name: **Enter your name here** (double click to edit)\n",
        "\n",
        "Net ID: **Enter your NetID here** (double click to edit)"
      ],
      "metadata": {
        "id": "6RGvka06V5bz"
      }
    },
    {
      "cell_type": "markdown",
      "source": [
        "## Lab Notebook Questions"
      ],
      "metadata": {
        "id": "KtZHcBeeVXj2"
      }
    },
    {
      "cell_type": "markdown",
      "metadata": {
        "id": "m13keqTnVIdM"
      },
      "source": [
        "### <b>Q1: Build at least three different types of plots using matplotlib and data stored in a Pandas DataFrame. Include code + comments.\n",
        "\n",
        "Each plot should include the following elements:\n",
        "- Title\n",
        "- Axis labels\n",
        "- Legend\n",
        "- Scale or tickmarks\n",
        "- Data source\n",
        "\n",
        "Plot types to choose from:\n",
        "- Line plots\n",
        "- Bar chart\n",
        "- Grouped bar chart\n",
        "- Horizontal bar chart\n",
        "- Stacked bar chart\n",
        "- Histogram\n",
        "- Box plot\n",
        "- Area plot\n",
        "- Scatter plot\n",
        "- Pie chart\n",
        "- Map</b>"
      ]
    },
    {
      "cell_type": "markdown",
      "metadata": {
        "id": "b_kQlvZuVIdP"
      },
      "source": [
        "**AnswerQ1**: Your answer here, if needed (double click to edit)"
      ]
    },
    {
      "cell_type": "code",
      "execution_count": null,
      "metadata": {
        "id": "4_PBUUCnVIdR"
      },
      "outputs": [],
      "source": [
        "# code for first plot"
      ]
    },
    {
      "cell_type": "code",
      "execution_count": null,
      "metadata": {
        "id": "w-h__IU8VgM0"
      },
      "outputs": [],
      "source": [
        "# code for second plot"
      ]
    },
    {
      "cell_type": "code",
      "execution_count": null,
      "metadata": {
        "id": "Exwq1ofwVgUs"
      },
      "outputs": [],
      "source": [
        "# code for third plot"
      ]
    },
    {
      "cell_type": "markdown",
      "metadata": {
        "id": "-37lw0KgVIdT"
      },
      "source": [
        "### <b>Q2: Build at least two different types of plots using seaborn and data stored in a Pandas DataFrame. Include code + comments.\n",
        "\n",
        "Each plot should include the following elements:\n",
        "- Title\n",
        "- Axis labels\n",
        "- Legend\n",
        "- Scale or tickmarks\n",
        "- Data source\n",
        "\n",
        "Plot types to choose from:\n",
        "- Line plots\n",
        "- Bar chart\n",
        "- Histogram\n",
        "- Box plot\n",
        "- Area plot\n",
        "- Scatter plot\n",
        "\n",
        "Remember in `seaborn` our way into these discrete plot types if via a few overarching functions based on what aspects of the data we want to highlight:\n",
        "- `sns.replot()`\n",
        "  * Shows relationships\n",
        "  * Can be a scatterplot or line plot \n",
        "- `sns.lmplot()`\n",
        "  * Visualizes linear models\n",
        "  * Can include a combination of line plots and scatter plots\n",
        "- `sns.displot()`\n",
        "  * Shows value distribution\n",
        "  *  Can include histograms or bar charts\n",
        "- `sns.catplot()`\n",
        "  * Shows category dimensions\n",
        "  * Can include bar charts, box plots, violin plots </b>"
      ]
    },
    {
      "cell_type": "markdown",
      "metadata": {
        "id": "e8ysYDN3VIdU"
      },
      "source": [
        "**AnswerQ2**: Your answer here, if needed (double click to edit)"
      ]
    },
    {
      "cell_type": "code",
      "execution_count": null,
      "metadata": {
        "id": "lDG3bF9iVm59"
      },
      "outputs": [],
      "source": [
        "# code for first plot"
      ]
    },
    {
      "cell_type": "code",
      "execution_count": null,
      "metadata": {
        "id": "LsSPKbXiVn1c"
      },
      "outputs": [],
      "source": [
        "# code for second plot"
      ]
    }
  ],
  "metadata": {
    "kernelspec": {
      "display_name": "Python 3",
      "language": "python",
      "name": "python3"
    },
    "language_info": {
      "codemirror_mode": {
        "name": "ipython",
        "version": 3
      },
      "file_extension": ".py",
      "mimetype": "text/x-python",
      "name": "python",
      "nbconvert_exporter": "python",
      "pygments_lexer": "ipython3",
      "version": "3.8.5"
    },
    "colab": {
      "name": "python-more-with-matplotlib-template.ipynb",
      "provenance": [],
      "toc_visible": true,
      "include_colab_link": true
    }
  },
  "nbformat": 4,
  "nbformat_minor": 0
}