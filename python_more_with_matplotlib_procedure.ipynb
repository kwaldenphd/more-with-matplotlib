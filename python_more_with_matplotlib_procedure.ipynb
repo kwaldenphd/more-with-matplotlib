{
  "cells": [
    {
      "cell_type": "markdown",
      "metadata": {
        "id": "view-in-github",
        "colab_type": "text"
      },
      "source": [
        "<a href=\"https://colab.research.google.com/github/kwaldenphd/more-with-matplotlib/blob/main/python_more_with_matplotlib_procedure.ipynb\" target=\"_parent\"><img src=\"https://colab.research.google.com/assets/colab-badge.svg\" alt=\"Open In Colab\"/></a>"
      ]
    },
    {
      "cell_type": "markdown",
      "source": [
        "# More With `matplotlib`\n",
        "\n",
        "<a href=\"http://creativecommons.org/licenses/by-nc/4.0/\" rel=\"license\"><img style=\"border-width: 0;\" src=\"https://i.creativecommons.org/l/by-nc/4.0/88x31.png\" alt=\"Creative Commons License\" /></a>\n",
        "This tutorial is licensed under a <a href=\"http://creativecommons.org/licenses/by-nc/4.0/\" rel=\"license\">Creative Commons Attribution-NonCommercial 4.0 International License</a>.\n"
      ],
      "metadata": {
        "id": "UP6ga7Q6QxCz"
      }
    },
    {
      "cell_type": "markdown",
      "source": [
        "## Lab Goals\n",
        "\n",
        "This lab covers how to generate `matplotlib` plots for data stored in a `pandas` `DataFrame`. It provides an overview of how to generate a variety of common plot types, including line plots, bar charts, histograms, box plots, area plots, scatter plots, and pie charts. It also covers how `pandas`'s plotting function handles missing data. It provides a comparison of the `matplotlib` and `seaborn` plotting packages and provides an introduction to `seaborn` with sample code. \n",
        "\n",
        "By the end of this lab, students will be able to:\n",
        "- Understand how to generate `matplotlib` plots for data stored in a `pandas` `DataFrame`, for a variety of plot types\n",
        "- Understand how to navigate the `pandas` documentation to troubleshoot and further explore `pandas`'s plotting functions\n",
        "- Understand the basic distinctions and relationship between `matplotlib` and `seaborn`"
      ],
      "metadata": {
        "id": "jLr3GEVnQyiX"
      }
    },
    {
      "cell_type": "markdown",
      "source": [
        "## Acknowledgements\n",
        "\n",
        "The author consulted the following resources when writing  this tutorial:\n",
        "- Chapter 4.14 \"Visualization With Seaborn\" from Jake VanderPlas, [*Python Data Science Handbook: Essential Tools for Working with Data*](https://jakevdp.github.io/PythonDataScienceHandbook/04.14-visualization-with-seaborn.html ) (O'Reilly, 2016)\n",
        "- `pandas`, [User Guide, \"Visualization\"](https://pandas.pydata.org/docs/user_guide/visualization.html)\n",
        "- `pandas`, [Getting Started, \"Plotting\"](https://pandas.pydata.org/docs/getting_started/intro_tutorials/04_plotting.html)\n",
        "- Chapter 9 \"Plotting and Visualization\" from Wes McKinney, [*Python for Data Analysis: Data Wrangling With pandas, Numpy, and IPython*](https://www.oreilly.com/library/view/python-for-data/9781491957653/) (O'Reilly, 2017)\n",
        "- Chapter 15 \"Generating Data\" from Eric Matthes, [*Python Crash Course: A Hands-On, Project-Based Introduction to Programming*](https://ehmatthes.github.io/pcc/) (No Starch Press, 2019).\n",
        "- [`seaborn` package documentation](https://seaborn.pydata.org/introduction.html)"
      ],
      "metadata": {
        "id": "nSCT8_ZiQztY"
      }
    },
    {
      "cell_type": "markdown",
      "source": [
        "# Lab Notebook Template\n",
        "\n",
        "[Link to lab notebook template (Jupyter Notebook)](https://drive.google.com/file/d/1qUT3e8D02oABf6DBjMEm6sb7thhk7wIR/view?usp=sharing)"
      ],
      "metadata": {
        "id": "gELLLWapQ1L3"
      }
    },
    {
      "cell_type": "markdown",
      "source": [
        "# Data\n",
        "\n",
        "Most of this lab will work with the `air_quality_no2.csv` dataset:\n",
        "- [Download via Google Drive](https://drive.google.com/file/d/1q9np3jZycdHszWODH-MCQ4rfjkcH3g6F/view?usp=sharing)\n",
        "\n",
        "To load this data in Python:"
      ],
      "metadata": {
        "id": "REA0F-pxQ4tV"
      }
    },
    {
      "cell_type": "code",
      "source": [
        "# import pandas\n",
        "import pandas as pd\n",
        "\n",
        "# load data from file\n",
        "air_quality = pd.read_csv('air_quality_no2.csv', index_col=0, parse_dates=True)"
      ],
      "metadata": {
        "id": "lqX5aAvWQ6Gy"
      },
      "execution_count": null,
      "outputs": []
    },
    {
      "cell_type": "code",
      "source": [
        "# import pandas\n",
        "import pandas as pd\n",
        "\n",
        "# load data from url\n",
        "air_quality = pd.read_csv('https://raw.githubusercontent.com/kwaldenphd/more-with-matplotlib/main/data/air_quality_no2.csv', index_col=0, parse_dates=True)"
      ],
      "metadata": {
        "id": "QFIQqgGUQ7JC"
      },
      "execution_count": null,
      "outputs": []
    },
    {
      "cell_type": "markdown",
      "source": [
        "The mapping section of the lab will use georeferenced data on Notre Dame Football schedules, scraped from College Football Reference.\n",
        "- [Download via Google Drive](https://drive.google.com/file/d/1zmEO_iDfGv1ciwTdQf7JKCZaCzx0Bk1C/view?usp=sharing)\n",
        "\n",
        "To load this data in Python:"
      ],
      "metadata": {
        "id": "MMYfp_mCQ8Lh"
      }
    },
    {
      "cell_type": "code",
      "source": [
        "# import statements\n",
        "import pandas as pd\n",
        "\n",
        "# load data from file\n",
        "football = pd.read_csv(\"nd_football.csv\")"
      ],
      "metadata": {
        "id": "BvngvgVDQ9TA"
      },
      "execution_count": null,
      "outputs": []
    },
    {
      "cell_type": "code",
      "source": [
        "# import statements\n",
        "import pandas as pd\n",
        "\n",
        "# load data from url\n",
        "football = pd.read_csv(\"https://raw.githubusercontent.com/kwaldenphd/more-with-matplotlib/main/data/nd_football.csv\")"
      ],
      "metadata": {
        "id": "gaAeqAE1Q-Vb"
      },
      "execution_count": null,
      "outputs": []
    },
    {
      "cell_type": "markdown",
      "source": [
        "# Setup and Environment\n"
      ],
      "metadata": {
        "id": "l1--Ee3RRH2j"
      }
    },
    {
      "cell_type": "markdown",
      "source": [
        "## GeoPandas\n",
        "\n",
        "Later in this lab, we'll be using a package called `GeoPandas` for plotting spatial data.\n",
        "\n",
        "Installing and configuring `Geopandas` requires creating a new Python environment.\n",
        "\n",
        "A few resources that can get folks started:\n",
        "  \n",
        "**Installing and Configuring `geopandas`**:\n",
        "- Anaconda\n",
        "  * Tanish Gupta, \"[Fastest Way to Install Geopandas in Jupyter Notebooks](https://medium.com/analytics-vidhya/fastest-way-to-install-geopandas-in-jupyter-notebook-on-windows-8f734e11fa2b)\" *Analytics Vidhya* (6 December 2020)\n",
        "  * Anaconda, \"[conda-forge packages, geopandas](https://anaconda.org/conda-forge/geopandas)\" *Anaconda documentation*\n",
        "  * GeoPandas, \"[Installation](https://geopandas.org/getting_started/install.html)\" *GeoPandas documentation*\n",
        "- Google CoLab\n",
        "  * Abdishakur Hassan, Jupyter notebook on using `geopandas` in Google CoLab, from \"[Geographic data science tutorials with Python](https://github.com/shakasom/GDS)\" *GitHub repository*\n",
        "    * [Google CoLab](https://colab.research.google.com/github/shakasom/GDS/blob/master/Part1%20-%20Introduction.ipynb)\n",
        "    * [GitHub](https://github.com/shakasom/GDS/blob/master/Part1%20-%20Introduction.ipynb)\n",
        "\n",
        "Additional `GeoPandas` resources:\n",
        "- Jonathan Soma, \"[Mapping with geopandas](https://jonathansoma.com/lede/foundations-2017/classes/geopandas/mapping-with-geopandas/)\" from 2017 \"[Foundations of Computing](https://jonathansoma.com/lede/foundations-2017/)\" course, Columbia Graduate School of Journalism\n",
        "- CoderzColumn, \"[Plotting Static Maps with geopandas](https://coderzcolumn.com/tutorials/data-science/plotting-static-maps-with-geopandas-working-with-geospatial-data)\" *CoderzColumn* (11 March 2020)\n",
        "- GeoPandas, \"[Plotting with Geoplot and GeoPandas](https://geopandas.org/gallery/plotting_with_geoplot.html)\" *GeoPandas documentation*\n"
      ],
      "metadata": {
        "id": "APZoSTgfRJVe"
      }
    },
    {
      "cell_type": "markdown",
      "source": [
        "## Geocoding Data\n",
        "\n",
        "Later in this lab we'll look at plotting geospatial data to generate maps.\n",
        "\n",
        "But if you're wanting to work with your own data and it does not have geospatial attributes (latitude and longitude), you'll need to add that information via a process called geocoding.\n",
        "\n",
        "Free online geocoding services:\n",
        "- [LocalFocus data journalism batch geocoder](https://geocode.localfocus.nl/)\n",
        "- [Texas A&M Geocoding Services](https://geoservices.tamu.edu/Services/Geocode/)\n",
        "  * *Requires creating a free account*\n",
        "  \n",
        "There are also Python libraries that support geocoding.\n",
        "- [`GeoPy`](https://geopy.readthedocs.io/en/stable/)\n",
        "- [`Geocoder`](https://geocoder.readthedocs.io/providers/Mapbox.html) (requires a free Mapbox API key)\n",
        "- Abdishakur, [\"Geocode with Python\"](https://towardsdatascience.com/geocode-with-python-161ec1e62b89) *Towards Data Science* (15 September 2019)\n"
      ],
      "metadata": {
        "id": "YNKeSPrrRKlk"
      }
    },
    {
      "cell_type": "markdown",
      "source": [
        "# `pandas` and `matplotlib`\n",
        "\n",
        "1. Having to load data manually to build a visualization or plot gets cumbersome quickly.\n",
        "\n",
        "2. In many situations, we might want to work with data in a `pandas` `DataFrame` when building a visualization.\n",
        "\n",
        "3. `pandas` includes a `.plot()` attribute that interacts with the `matplotlib` API to generate plots.\n",
        "\n",
        "4. The `pandas` `.plot()` attribute relies on the `matplotlib` API to generate plots, so our work with `matplotlib` will come in handy when we need to customize plots generated using `.plot()`.\n",
        "\n",
        "5. And in many cases, the `.plot()` syntax is similar to `matplotlib` `OO` syntax.\n"
      ],
      "metadata": {
        "id": "j-YOJYkuQ_0h"
      }
    },
    {
      "cell_type": "markdown",
      "source": [
        "## Plotting in `pandas` Using `.plot()`\n",
        "\n",
        "6. Let's go back to the air quality data we were working with previously in `pandas`.\n",
        "\n",
        "7. To load the data as a dataframe:"
      ],
      "metadata": {
        "id": "TTsoMSF5RA3s"
      }
    },
    {
      "cell_type": "code",
      "source": [
        "# import pandas\n",
        "import pandas as pd\n",
        "\n",
        "# load data from url to dataframe\n",
        "# air_quality = pd.read_csv('https://raw.githubusercontent.com/kwaldenphd/more-with-matplotlib/main/data/air_quality_no2.csv', index_col=0, parse_dates=True)\n",
        "\n",
        "# check data has loaded\n",
        "air_quality.head()"
      ],
      "metadata": {
        "id": "Mk4W9a7xRB69"
      },
      "execution_count": null,
      "outputs": []
    },
    {
      "cell_type": "markdown",
      "source": [
        "8. We can do a quick visual check of the data by passing the entire data frame to `.plot()`."
      ],
      "metadata": {
        "id": "sttQQRtuRDEW"
      }
    },
    {
      "cell_type": "code",
      "source": [
        "# import matplotlib\n",
        "import matplotlib.pyplot as plt\n",
        "\n",
        "# generate plot\n",
        "air_quality.plot()"
      ],
      "metadata": {
        "id": "ztBAiq8MRECp"
      },
      "execution_count": null,
      "outputs": []
    },
    {
      "cell_type": "markdown",
      "source": [
        "9. This isn't a particularly meaningful visualization, but it shows us how the default for `.plot()` creates a line for each column with numeric data.\n",
        "\n",
        "10. The index is used for the `X` axis, and all numeric columns are plotted on the `Y` axis.\n",
        "\n",
        "11. We can also see that `.plot()` pulls tick marks, tick labels, and axis titles from the underlying `dataframe`.\n",
        "\n",
        "12. Let's say we only wanted to plot Paris data.\n",
        "\n",
        "13. We can select that column in the `dataframe` before calling `.plot()`."
      ],
      "metadata": {
        "id": "xf7yiTWERFGY"
      }
    },
    {
      "cell_type": "code",
      "source": [
        "air_quality[\"station_paris\"].plot()"
      ],
      "metadata": {
        "id": "H-o6X06cRF-z"
      },
      "execution_count": null,
      "outputs": []
    },
    {
      "cell_type": "markdown",
      "source": [
        "14. We can plot a specific column in the `dataframe` using the `[\" \"]` selection method.\n",
        "\n",
        "15. Let's say we want to visually compare NO<sub>2</sub> values measured in London and Paris.\n",
        "\n",
        "16. We need to specify what column is going to be used for the `X` axis as well as what column is going to be used for the `Y` axis.\n",
        "\n",
        "17. For this example, a scatterplot will be more effective than a lineplot.\n",
        "\n",
        "18. We can create a scatterplot using `.plot.scatter()`.\n"
      ],
      "metadata": {
        "id": "fZJJzEssRIUk"
      }
    },
    {
      "cell_type": "code",
      "source": [
        "air_quality.plot.scatter(x=\"station_london\", y=\"station_paris\", alpha=0.5)"
      ],
      "metadata": {
        "id": "NaOcYKgaRJDl"
      },
      "execution_count": null,
      "outputs": []
    },
    {
      "cell_type": "markdown",
      "source": [
        "19. This example generates a scatterplot with London data on the `X` axis and Paris data on the `Y` axis.\n",
        "\n",
        "20. While the default for `.plot()` is a lineplot, there are a number of other methods we can use with `.plot()`.\n",
        "\n",
        "21. Again, you will see some overlap with `matplotlib` syntax.\n",
        "\n",
        "22. We can use these strings as as method in combination with `.plot()` or we can pass them to `.plot()` as a `kind` parameter.\n",
        "\n",
        "Plot Type | Method Syntax | Parameter Syntax\n",
        "--- | --- | ---\n",
        "Default (line) | `.plot()` | NA\n",
        "Area | `.plot.area()` | `.plot(kind='area')`\n",
        "Bar | `.plot.bar()` | `.plot(kind='bar')`\n",
        "Horizontal bar | `.plot.barh()` | `.plot(kind='barh')`\n",
        "Box | `.plot.box()` | `.plot(kind='box')`\n",
        "Density | `.plot.density()` | `.plot(kind='density')`\n",
        "Hexbin | `.plot.hexbin()` | `.plot(kind='hexbin')`\n",
        "Histogram | `.plot.hist()` | `.plot(kind='hist')`\n",
        "Kernel density | `.plot.kde()` | `.plot(kind='hist')`\n",
        "Line | `.plot.line()` | `.plot(kind='line')` *this would be redundant since the default for `.plot()` is line*\n",
        "Pie | `.plot.pie()` | `.plot(kind='pie')`\n",
        "Scatter | `.plot.scatter()` | `.plot(kind='scatter')`\n",
        "\n",
        "23. In general, it's more effective to use the method syntax to note plot type, rather than treating plot type as a parameter.\n",
        "\n",
        "24. Let's create a box plot using our air quality data."
      ],
      "metadata": {
        "id": "CgDRSG_NRKnn"
      }
    },
    {
      "cell_type": "code",
      "source": [
        "air_quality.plot.box()"
      ],
      "metadata": {
        "id": "COloy9WbRLiw"
      },
      "execution_count": null,
      "outputs": []
    },
    {
      "cell_type": "markdown",
      "source": [
        "25. We can see each numeric column (each station) has its own box in the default boxplot.\n",
        "\n",
        "26. Let's say we wanted to generate a lineplot with separate subplots for each of the numeric columns.\n",
        "\n",
        "27. We can accomplish this by setting the `subplots` parameter to `True`."
      ],
      "metadata": {
        "id": "WyStL6tiRMjm"
      }
    },
    {
      "cell_type": "code",
      "source": [
        "axs = air_quality.plot.area(figsize=(12, 4), subplots=True)"
      ],
      "metadata": {
        "id": "74dMS2mwRNba"
      },
      "execution_count": null,
      "outputs": []
    },
    {
      "cell_type": "markdown",
      "source": [
        "28. Let's say we want to further customize this plot.\n",
        "\n",
        "29. This is where we start to see more `matplotlib` syntax in play."
      ],
      "metadata": {
        "id": "Y6Dqsk-HROuR"
      }
    },
    {
      "cell_type": "code",
      "source": [
        "# create figure and axes\n",
        "fig, axs = plt.subplots(figsize=(12, 4))\n",
        "\n",
        "# build area plot\n",
        "air_quality.plot.area(ax=axs)\n",
        "\n",
        "# set y axis label\n",
        "axs.set_ylabel(\"NO$_2$ concentration\")\n",
        "\n",
        "# save plot as png file\n",
        "fig.savefig(\"no2_concentrations.png\")"
      ],
      "metadata": {
        "id": "NSxBFGMFRPmO"
      },
      "execution_count": null,
      "outputs": []
    },
    {
      "cell_type": "markdown",
      "source": [
        "30. Each plot object created by `pandas` is also a `matplotlib` object.\n",
        "\n",
        "31. Having a deep knowledge of `matplotlib` allows you to customize plots generated using `pandas` `.plot()` function.\n",
        "\n",
        "32. That said, there are some parameters you can set as part of `.plot()` without having to have separate `matplotlib` syntax commands.\n",
        "\n",
        "33. The plot `kind` is one parameter option, as is the `dataframe`, `X` axis data, and `Y` axis data.\n",
        "\n",
        "34. Other parameters:\n",
        "\n",
        "Parameter | Explanation\n",
        "--- | ---\n",
        "`ax` | `matplotlib` `axes` object; axes for the current figure\n",
        "`subplots` | Default is `False`; set to `True` to enable multiple plots in the same figure\n",
        "`layout` | Follows `(rows, columns)` syntax to set subplot layout\n",
        "`figsize` | Follows `(width, height)` syntax; Sets figure object width and height in inches\n",
        "`use_Index` | Default is `True`; uses dataframe index as ticks for `X` axis\n",
        "`title` | Title to use for the plot; can take a list with titles for corresponding subplots\n",
        "`grid` | Default is `False`; set to `True` to show axis grid lines\n",
        "`legend` | Places legend on axis subplot\n",
        "`xticks` | Values to use for `X` axis ticks\n",
        "`yticks` | Values to use for `Y` axis ticks\n",
        "`xlim` | Follows `(lower limit, upper limit)` syntax; Sets `X` axis limits\n",
        "`ylim` | Follows `(lower limit, upper limit)` syntax; Sets `Y` axis limits\n",
        "`xlabel` | Label for `X` axis; default uses index column name\n",
        "`ylabel` | Label for `Y` axis; default uses `Y` column name\n",
        "`fontsize` | Sets font size for tickmarks\n",
        "`colormap` | Sets `matplotlib` colormap to select colors from\n",
        "`table` | Default is `False`; set to `True` to draw a table from data in the `DataFrame`\n",
        "`stacked` | Default is `False` in line and bar plots, `True` in area plot; if `True`, creates stacked plot\n",
        "\n",
        "35. For more parameters that can be passed to `.plot()`: [`pandas.DataFrame.plot`](https://pandas.pydata.org/pandas-docs/stable/reference/api/pandas.DataFrame.plot.html)\n",
        "\n",
        "36. Let's walk through a few more examples of using `.plot()` with a `pandas` `DataFrame`.\n",
        "\n",
        "37. NOTE: The `.plot()` method can be used on `pandas` `Series` and `DataFrame`. These examples focus on `DataFrame`s.\n",
        "\n",
        "### Time Series Data and Line Plots\n",
        "\n",
        "38. Let's generate some random time series data."
      ],
      "metadata": {
        "id": "5Qkkzg5pRR9_"
      }
    },
    {
      "cell_type": "code",
      "source": [
        "# import pandas\n",
        "import pandas as pd\n",
        "\n",
        "# import matplotlib\n",
        "import matplotlib.pyplot as plt\n",
        "\n",
        "# import numpy\n",
        "import numpy as np\n",
        "\n",
        "# create series with random numbers organized over time series\n",
        "ts = pd.Series(np.random.randn(1000), index=pd.date_range(\"1/1/2000\", periods=1000))\n",
        "\n",
        "# cumulative sum calculated by iterating over Series\n",
        "ts = ts.cumsum()\n",
        "\n",
        "# generate line plot\n",
        "ts.plot()"
      ],
      "metadata": {
        "id": "l3qQlh18RXpl"
      },
      "execution_count": null,
      "outputs": []
    },
    {
      "cell_type": "markdown",
      "source": [
        "39. In this example, our `Series` index labels are specified using `pd.date_range()`.\n",
        "\n",
        "40. These are the `X` axis values.\n",
        "\n",
        "41. The index values are the 1000 random values generated by `np.random.randn()`.\n",
        "\n",
        "42. We use the cumulative sum `.cumsum` to determine the total value for each unique time in the series.\n",
        "\n",
        "43. Let's modify this example to use a `DataFrame`."
      ],
      "metadata": {
        "id": "Y6E4Pz2ARY9b"
      }
    },
    {
      "cell_type": "code",
      "source": [
        "# create new dataframe with random numbers, the original time series index, and four columns\n",
        "df = pd.DataFrame(np.random.randn(1000, 4), index=ts.index, columns=list(\"ABCD\"))\n",
        "\n",
        "# calculate cumulative sum\n",
        "df = df.cumsum()\n",
        "\n",
        "# create plot\n",
        "df.plot()"
      ],
      "metadata": {
        "id": "AOdkvD4LRaEq"
      },
      "execution_count": null,
      "outputs": []
    },
    {
      "cell_type": "markdown",
      "source": [
        "44. For more on line plots:\n",
        "- [`pandas`, \"Basic plotting\"](https://pandas.pydata.org/docs/user_guide/visualization.html#basic-plotting-plot)\n",
        "- [`pandas.DataFrame.plot`](https://pandas.pydata.org/pandas-docs/stable/reference/api/pandas.DataFrame.plot.html)\n",
        "- [`pandas.DataFrame.plot.line`](https://pandas.pydata.org/pandas-docs/stable/reference/api/pandas.DataFrame.plot.line.html)\n",
        "\n",
        "### Bar Charts\n",
        "\n",
        "45. Let's say we want to create a bar chart with a single line of data from our `df` `DataFrame`.\n",
        "\n",
        "46. We can select a specific row using `iloc`."
      ],
      "metadata": {
        "id": "RH933-oMRbdn"
      }
    },
    {
      "cell_type": "code",
      "source": [
        "# create bar plot for single row of data\n",
        "df.iloc[5].plot.bar()"
      ],
      "metadata": {
        "id": "GiZ7WUiXRceu"
      },
      "execution_count": null,
      "outputs": []
    },
    {
      "cell_type": "markdown",
      "source": [
        "#### Grouped Bar Charts\n",
        "\n",
        "47. Let's say we want to produce a grouped bar chart.\n",
        "\n",
        "48. We can create a `DataFrame` with four columns and random values."
      ],
      "metadata": {
        "id": "lbuQaBJjRdr1"
      }
    },
    {
      "cell_type": "code",
      "source": [
        "# create dataframe\n",
        "df2 = pd.DataFrame(np.random.randn(10, 4), columns=['a', 'b', 'c', 'd'])\n",
        "\n",
        "# generate bar chart\n",
        "df2.plot.bar()"
      ],
      "metadata": {
        "id": "WaWXH01XRerJ"
      },
      "execution_count": null,
      "outputs": []
    },
    {
      "cell_type": "markdown",
      "source": [
        "49. By default, `.plot.bar()` creates a separate bar for each of the numeric columns.\n",
        "\n",
        "50. We could select a single column using `['']` to only show one bar or column value.\n",
        "\n",
        "#### Stacked Bar Charts\n",
        "\n",
        "51. If we wanted to show this data as a stacked bar chart, we would set the `stacked` parameter to `True`."
      ],
      "metadata": {
        "id": "7pAdh9EvRf7x"
      }
    },
    {
      "cell_type": "code",
      "source": [
        "# stacked bar chart\n",
        "df2.plot.bar(stacked=True)"
      ],
      "metadata": {
        "id": "3_GrGnzJRgzZ"
      },
      "execution_count": null,
      "outputs": []
    },
    {
      "cell_type": "markdown",
      "source": [
        "#### Horizontal Bar Charts\n",
        "\n",
        "52. Remember `.plot.barh()` generates a horizontal bar chart, and we can also set `stacked` to `True` here to create a horizontal stacked bar chart."
      ],
      "metadata": {
        "id": "FP7lUFOrRiEo"
      }
    },
    {
      "cell_type": "code",
      "source": [
        "# horizontal bar chart\n",
        "df2.plot.barh(stacked=True)"
      ],
      "metadata": {
        "id": "4BEf8sZMRi02"
      },
      "execution_count": null,
      "outputs": []
    },
    {
      "cell_type": "markdown",
      "source": [
        "53. For more on bar charts:\n",
        "- [`pandas`, \"Bar plots\"](https://pandas.pydata.org/docs/user_guide/visualization.html#bar-plots)\n",
        "- [`pandas.DataFrame.plot`](https://pandas.pydata.org/pandas-docs/stable/reference/api/pandas.DataFrame.plot.html)\n",
        "- [`pandas.DataFrame.plot.bar`](https://pandas.pydata.org/pandas-docs/stable/reference/api/pandas.DataFrame.plot.bar.html)\n",
        "- [`pandas.DataFrame.plot.barh`](https://pandas.pydata.org/pandas-docs/stable/reference/api/pandas.DataFrame.plot.barh.html)\n",
        "\n",
        "### Histograms\n",
        "\n",
        "54. The `.plot.hist()` method will generate a histogram.\n",
        "\n",
        "55. We can also use `.hist()` to generate a histogram."
      ],
      "metadata": {
        "id": "BkhUsM_oRkkx"
      }
    },
    {
      "cell_type": "code",
      "source": [
        "# create dataframe with three columns using dictionary with random number data\n",
        "df = pd.DataFrame({\"a\": np.random.randn(1000) + 1, \"b\": np.random.randn(1000), \"c\": np.random.randn(1000) - 1,}, columns=[\"a\", \"b\", \"c\"],)\n",
        "\n",
        "# create histogram\n",
        "df.plot.hist(alpha=0.5)"
      ],
      "metadata": {
        "id": "iBxJHdgERl3K"
      },
      "execution_count": null,
      "outputs": []
    },
    {
      "cell_type": "markdown",
      "source": [
        "56. We can set `stacked` to `True` to create a stacked histogram."
      ],
      "metadata": {
        "id": "btiPvOx6Rm6k"
      }
    },
    {
      "cell_type": "code",
      "source": [
        "# stacked histogram\n",
        "df.hist(stacked=True)"
      ],
      "metadata": {
        "id": "T0aA-a64Rnwj"
      },
      "execution_count": null,
      "outputs": []
    },
    {
      "cell_type": "markdown",
      "source": [
        "57. We can also specify the bin size using the `bins` keyword."
      ],
      "metadata": {
        "id": "WTccGILERosS"
      }
    },
    {
      "cell_type": "code",
      "source": [
        "# modified bin number/size\n",
        "df.plot.hist(bins=20)"
      ],
      "metadata": {
        "id": "0xcAHYddRpg9"
      },
      "execution_count": null,
      "outputs": []
    },
    {
      "cell_type": "markdown",
      "source": [
        "58. We can use the `.hist()` method in `matplotlib` to further customize our histogram: [`matplotlib.axes.Axes.hist`](https://matplotlib.org/api/_as_gen/matplotlib.axes.Axes.hist.html#matplotlib.axes.Axes.hist)\n",
        "\n",
        "59. For more on histograms:\n",
        "- [`pandas`, \"Visualization, Histograms\"](https://pandas.pydata.org/docs/user_guide/visualization.html#visualization-hist)\n",
        "- [`pandas.DataFrame.plot.hist`](https://pandas.pydata.org/pandas-docs/stable/reference/api/pandas.DataFrame.plot.hist.html)\n",
        "- [`pandas.DataFrame.hist`](https://pandas.pydata.org/pandas-docs/stable/reference/api/pandas.DataFrame.hist.html)\n",
        "\n",
        "### Box plots\n",
        "\n",
        "60. We can generate box plots using `.plot.box()` or `.boxplot()`.\n",
        "\n",
        "61. The default settings visualize the distribution of values within each column.\n",
        "\n",
        "62. Back to our random number `DataFrame`, this time with five columns.\n"
      ],
      "metadata": {
        "id": "7B9KfYA2Rq4y"
      }
    },
    {
      "cell_type": "code",
      "source": [
        "# create dataframe\n",
        "df = pd.DataFrame(np.random.randn(10, 5), columns=['A', 'B', 'C', 'D', 'E'])\n",
        "\n",
        "# create plot\n",
        "df.plot.box()"
      ],
      "metadata": {
        "id": "oPSXC3jIRr9T"
      },
      "execution_count": null,
      "outputs": []
    },
    {
      "cell_type": "markdown",
      "source": [
        "63. We can add colors to our box plot using the `color` keyword."
      ],
      "metadata": {
        "id": "Gabc5BbvRs9I"
      }
    },
    {
      "cell_type": "code",
      "source": [
        "# set box color\n",
        "df.plot.box(color='blue')"
      ],
      "metadata": {
        "id": "LXG-sKh5Rt6b"
      },
      "execution_count": null,
      "outputs": []
    },
    {
      "cell_type": "markdown",
      "source": [
        "64. We can also use a dictionary with key-value pairs for each component of our box plot."
      ],
      "metadata": {
        "id": "wkS-7TBPRu0j"
      }
    },
    {
      "cell_type": "code",
      "source": [
        "# set color dictionary\n",
        "color = {\"boxes\": \"DarkGreen\", \"whiskers\": \"DarkOrange\", \"medians\": \"DarkBlue\", \"caps\": \"Gray\",}\n",
        "\n",
        "# draw plot and specify colors and outlier symbol using keyword argument or kwarg\n",
        "df.plot.box(color=color, sym=\"r+\")"
      ],
      "metadata": {
        "id": "vWsPassoRv_I"
      },
      "execution_count": null,
      "outputs": []
    },
    {
      "cell_type": "markdown",
      "source": [
        "65. For more on box plots:\n",
        "- [`pandas`, \"Visualization, Box plots\"](https://pandas.pydata.org/docs/user_guide/visualization.html#box-plots)\n",
        "- [`pandas.DataFrame.plot.box`](https://pandas.pydata.org/pandas-docs/stable/reference/api/pandas.DataFrame.plot.box.html)\n",
        "- [`pandas.DataFrame.boxplot`](https://pandas.pydata.org/pandas-docs/stable/reference/api/pandas.DataFrame.boxplot.html)\n",
        "\n",
        "### Area Plots\n",
        "\n",
        "66. Basic syntax:"
      ],
      "metadata": {
        "id": "U6gDMADLRxr9"
      }
    },
    {
      "cell_type": "code",
      "source": [
        "# create dataframe\n",
        "df = pd.DataFrame(np.random.rand(10, 4), columns=[\"a\", \"b\", \"c\", \"d\"])\n",
        "\n",
        "# generate area plot\n",
        "df.plot.area()"
      ],
      "metadata": {
        "id": "_wvNVxRjRzeD"
      },
      "execution_count": null,
      "outputs": []
    },
    {
      "cell_type": "markdown",
      "source": [
        "67. For more on area plots:\n",
        "- [`pandas`, \"Visualization, Area plot\"](https://pandas.pydata.org/docs/user_guide/visualization.html#area-plot)\n",
        "- [`pandas.DataFrame.plot`](https://pandas.pydata.org/pandas-docs/stable/reference/api/pandas.DataFrame.plot.html)\n",
        "- [`pandas.DataFrame.plot.area`](https://pandas.pydata.org/pandas-docs/stable/reference/api/pandas.DataFrame.plot.area.html)\n",
        "\n",
        "### Scatter Plots\n",
        "\n",
        "68. Basic syntax:"
      ],
      "metadata": {
        "id": "qay-Nq8iR5SG"
      }
    },
    {
      "cell_type": "code",
      "source": [
        "# create dataframe\n",
        "df = pd.DataFrame(np.random.rand(50, 4), columns=[\"a\", \"b\", \"c\", \"d\"])\n",
        "\n",
        "# generate scatter plot\n",
        "df.plot.scatter(x=\"a\", y=\"b\")"
      ],
      "metadata": {
        "id": "XWvonmouR6Uf"
      },
      "execution_count": null,
      "outputs": []
    },
    {
      "cell_type": "markdown",
      "source": [
        "69. For more on scatter plots:\n",
        "- [`pandas`, \"Visualization, Scatter plot\"](https://pandas.pydata.org/docs/user_guide/visualization.html#scatter-plot)\n",
        "- [`pandas.DataFrame.plot`](https://pandas.pydata.org/pandas-docs/stable/reference/api/pandas.DataFrame.plot.html)\n",
        "- [`pandas.DataFrame.plot.scatter`](https://pandas.pydata.org/pandas-docs/stable/reference/api/pandas.DataFrame.plot.scatter.html)\n",
        "\n",
        "### Pie Charts\n",
        "\n",
        "70. Basic syntax:"
      ],
      "metadata": {
        "id": "rxh6bbmpR7dM"
      }
    },
    {
      "cell_type": "code",
      "source": [
        "# create series array\n",
        "series = pd.Series(3 * np.random.rand(4), index=[\"a\", \"b\", \"c\", \"d\"], name=\"series\")\n",
        "\n",
        "# generate pie chart\n",
        "series.plot.pie(figsize=(6, 6))"
      ],
      "metadata": {
        "id": "yYpOAsR0R8kX"
      },
      "execution_count": null,
      "outputs": []
    },
    {
      "cell_type": "markdown",
      "source": [
        "71. We can also generate a pie chart from data stored in a `DataFrame` by using subplots for each column."
      ],
      "metadata": {
        "id": "54TmO7uPrV5c"
      }
    },
    {
      "cell_type": "code",
      "source": [
        "# create data frame\n",
        "df = pd.DataFrame(3 * np.random.rand(4, 2), index=[\"a\", \"b\", \"c\", \"d\"], columns=[\"x\", \"y\"])\n",
        "\n",
        "# generate side by side plots\n",
        "df.plot.pie(subplots=True, figsize=(8, 4))"
      ],
      "metadata": {
        "id": "h5Jgzb5jrU86"
      },
      "execution_count": null,
      "outputs": []
    },
    {
      "cell_type": "markdown",
      "source": [
        "For more on pie plots:\n",
        "- [`pandas`, \"Visualization, Pie Plot\"](https://pandas.pydata.org/docs/user_guide/visualization.html#pie-plot)\n",
        "- [`pandas.DataFrame.plot.pie`](https://pandas.pydata.org/docs/reference/api/pandas.DataFrame.plot.pie.html#pandas.DataFrame.plot.pie)\n",
        "\n",
        "### Mapping\n",
        "\n",
        "72. Up to this point, we have been working with data plotted on a 2D cartesian coordinate system, with x and y axes.\n",
        "\n",
        "73. For our purposes, it's most useful to think of maps in the same way--as data plotted on a coordinate system.\n",
        "\n",
        "74. Except for maps, that coordinate system is typically some type of latitude or longitude based projection, and the data to be plotted includes explicit location information (rather than a numerical or categorical field that can be mapped to an axis).\n",
        "\n",
        "75. We can use `GeoPandas` (a library based on `Pandas` that is geared toward geospatial data) in combination with `Shapely` and `Matplotlib` to generate static maps in Python.\n",
        "\n",
        "76. First- we need data that has geospatial attributes. Most often, this is some kind of `Latitude` and `Longitude` field.\n",
        "\n",
        "77. If our data includes addresses or city/state/country information, there are free online services that we can use to geocode data (add latitude/longitude information).\n",
        "\n",
        "**Free online geocoding services:**\n",
        "- [LocalFocus data journalism batch geocoder](https://geocode.localfocus.nl/)\n",
        "- [Texas A&M Geocoding Services](https://geoservices.tamu.edu/Services/Geocode/)\n",
        "  * *Requires creating a free account*\n",
        "  \n",
        "78. There are also Python libraries that support geocoding.\n",
        "- [`GeoPy`](https://geopy.readthedocs.io/en/stable/)\n",
        "- [`Geocoder`](https://geocoder.readthedocs.io/providers/Mapbox.html) (requires a free Mapbox API key)\n",
        "- Abdishakur, [\"Geocode with Python\"](https://towardsdatascience.com/geocode-with-python-161ec1e62b89) *Towards Data Science* (15 September 2019)\n",
        "  \n",
        "79. Installing and configuring `Geopandas` requires creating a new Python environment.\n",
        "\n",
        "80. A few resources that can get folks started:\n",
        "  \n",
        "**Installing and Configuring `geopandas`**:\n",
        "- Anaconda\n",
        "  * Tanish Gupta, \"[Fastest Way to Install Geopandas in Jupyter Notebooks](https://medium.com/analytics-vidhya/fastest-way-to-install-geopandas-in-jupyter-notebook-on-windows-8f734e11fa2b)\" *Analytics Vidhya* (6 December 2020)\n",
        "  * Anaconda, \"[conda-forge packages, geopandas](https://anaconda.org/conda-forge/geopandas)\" *Anaconda documentation*\n",
        "  * GeoPandas, \"[Installation](https://geopandas.org/getting_started/install.html)\" *GeoPandas documentation*\n",
        "- Google CoLab\n",
        "  * Abdishakur Hassan, Jupyter notebook on using `geopandas` in Google CoLab, from \"[Geographic data science tutorials with Python](https://github.com/shakasom/GDS)\" *GitHub repository*\n",
        "    * [Google CoLab](https://colab.research.google.com/github/shakasom/GDS/blob/master/Part1%20-%20Introduction.ipynb)\n",
        "    * [GitHub](https://github.com/shakasom/GDS/blob/master/Part1%20-%20Introduction.ipynb)\n",
        "\n",
        "81. We'll spend more time with mapping when we work with interactive visualization.\n",
        "\n",
        "82. But we can explore some static maps generated using `GeoPandas`, `Shapely`, and `Matplotlib`.\n",
        "\n",
        "83. For these maps, we'll be using , but some sample code that works with `shapely`, `geopandas`, and `matplotlib`.\n",
        "\n",
        "84. The data used for these maps is geocoded Notre Dame football schedule information scraped from College Football Reference.\n",
        "- [Link to data scraping Jupyter Notebook](https://github.com/kwaldenphd/football-structured-data/blob/main/notebooks/sf-nd-schedules.ipynb)\n",
        "- [Link to explore the data](https://github.com/kwaldenphd/more-with-matplotlib/blob/main/data/nd_football.csv)\n",
        "\n",
        "85. We can create a scatterplot using the latitude and longitude data.\n"
      ],
      "metadata": {
        "id": "2JoejfnVSASQ"
      }
    },
    {
      "cell_type": "code",
      "source": [
        "# import statements\n",
        "import pandas as pd\n",
        "import geopandas as gpd\n",
        "\n",
        "# load data\n",
        "# football = pd.read_csv(\"https://raw.githubusercontent.com/kwaldenphd/more-with-matplotlib/main/data/nd_football.csv\")\n",
        "\n",
        "# scatterplot of latitude and longitude data\n",
        "football.plot(x= \"Longitude\", y=\"Latitude\", kind='scatter')"
      ],
      "metadata": {
        "id": "S5FpORQ_SBnN"
      },
      "execution_count": null,
      "outputs": []
    },
    {
      "cell_type": "markdown",
      "source": [
        "86. We can also explore what types of basemap layers are available through `GeoPandas`."
      ],
      "metadata": {
        "id": "m2RbmbYgSCuB"
      }
    },
    {
      "cell_type": "code",
      "source": [
        "# show available geopandas datasets (for basemaps)\n",
        "gpd.datasets.available\n",
        "\n",
        "# world basemap from naturalearth_lowres geopandas dataset\n",
        "world = gpd.read_file(gpd.datasets.get_path(\"naturalearth_lowres\"))\n",
        "\n",
        "# show basemap head\n",
        "world.head()"
      ],
      "metadata": {
        "id": "9Nrau2ADSDwJ"
      },
      "execution_count": null,
      "outputs": []
    },
    {
      "cell_type": "markdown",
      "source": [
        "87. In order to create a map from the football data, we would need to create a point field from the latitude/longitude data."
      ],
      "metadata": {
        "id": "VYanIGzgSE61"
      }
    },
    {
      "cell_type": "code",
      "source": [
        "# create pandas geodataframe\n",
        "gds = gpd.GeoDataFrame(football, geometry=gpd.points_from_xy(football.Longitude, football.Latitude))\n",
        "\n",
        "# set GeoDataFrame coordinate system\n",
        "gds.crs = {'init': 'epsg:4326'}\n",
        "\n",
        "# show head of GeoDataFrame\n",
        "gds.head()"
      ],
      "metadata": {
        "id": "XLcOePHlSGF_"
      },
      "execution_count": null,
      "outputs": []
    },
    {
      "cell_type": "markdown",
      "source": [
        "88. Then, we could generate a preliminary Cartesian Coordinate plot of the GeoDataFrame.\n"
      ],
      "metadata": {
        "id": "WqpSQDpISG9k"
      }
    },
    {
      "cell_type": "code",
      "source": [
        "# preliminary cartesian coordinate plot of GeoDataFrame\n",
        "gds.plot(figsize=(20,5))"
      ],
      "metadata": {
        "id": "uIMcjWEBSIFt"
      },
      "execution_count": null,
      "outputs": []
    },
    {
      "cell_type": "markdown",
      "source": [
        "89. From that point, we can add a basemap layer to create a static 2D map.\n"
      ],
      "metadata": {
        "id": "B8YYuUARSI73"
      }
    },
    {
      "cell_type": "code",
      "source": [
        "# create figure axes with world basemap\n",
        "ax = world.plot(figsize=(15, 5), linewidth=0.25, edgecolor=\"white\", color=\"lightgrey\")\n",
        "\n",
        "# set axes title\n",
        "ax.set_title(\"Geography of Notre Dame Football\")\n",
        "\n",
        "# configure axes\n",
        "ax.axis('off')\n",
        "\n",
        "# plot football data with points colored by season\n",
        "gds.plot(markersize=10, column=\"Season\", cmap='viridis', alpha=0.5, ax=ax, legend=True)"
      ],
      "metadata": {
        "id": "rBb9kk45SKEY"
      },
      "execution_count": null,
      "outputs": []
    },
    {
      "cell_type": "markdown",
      "source": [
        "90. Additional `GeoPandas` resources:\n",
        "- Jonathan Soma, \"[Mapping with geopandas](https://jonathansoma.com/lede/foundations-2017/classes/geopandas/mapping-with-geopandas/)\" from 2017 \"[Foundations of Computing](https://jonathansoma.com/lede/foundations-2017/)\" course, Columbia Graduate School of Journalism\n",
        "- CoderzColumn, \"[Plotting Static Maps with geopandas](https://coderzcolumn.com/tutorials/data-science/plotting-static-maps-with-geopandas-working-with-geospatial-data)\" *CoderzColumn* (11 March 2020)\n",
        "- GeoPandas, \"[Plotting with Geoplot and GeoPandas](https://geopandas.org/gallery/plotting_with_geoplot.html)\" *GeoPandas documentation*\n"
      ],
      "metadata": {
        "id": "UC4ZO-BJSMSw"
      }
    },
    {
      "cell_type": "markdown",
      "source": [
        "## Lab Notebook Question 1\n",
        "\n",
        "Q1: Build at least three different types of plots using matplotlib and data stored in a Pandas DataFrame. Include code + comments. \n",
        "- *I encourage folks to use this question to explore visualizations you might use for the final project.*\n",
        "\n",
        "For each plot, include the following elements or components:\n",
        "- Title\n",
        "- Axis labels\n",
        "- Legend\n",
        "- Scale or tickmarks\n",
        "- Data source\n",
        " \n",
        "Plot types to choose from:\n",
        "- Line plots\n",
        "- Bar chart\n",
        "- Grouped bar chart\n",
        "- Horizontal bar chart\n",
        "- Stacked bar chart\n",
        "- Histogram\n",
        "- Box plot\n",
        "- Area plot\n",
        "- Scatter plot\n",
        "- Pie chart\n",
        "- Map\n"
      ],
      "metadata": {
        "id": "6rayI6LySOxh"
      }
    },
    {
      "cell_type": "markdown",
      "source": [
        "## `.plot()` and Missing Data\n",
        "\n",
        "91. Just like `pandas` has built-in settings for handling missing data or `NaN` values, the `.plot()` method also has default settings for how each type of plot handles missing data.\n",
        "\n",
        "Plot Type | NaN Handling \n",
        "--- | ---\n",
        "Line | Leaves gaps\n",
        "Stacked line | Fills 0s\n",
        "Bar | Fills 0s\n",
        "Scatter | Drops missing values\n",
        "Histogram | Drops missing values (column-wise)\n",
        "Box | Drops missing values (column-wise)\n",
        "Area | Fills 0s\n",
        "Kernel density (KDE) | Drops missing values (column-wise)\n",
        "Hexbin | Drops missing values\n",
        "Pie | Fills 0s\n",
        "\n",
        "92. To customize or alter these default settings, you would use `.fillna()` or `.dropna()` to filter the `DataFrame` before generating the plot."
      ],
      "metadata": {
        "id": "CuivoAN_SQRg"
      }
    },
    {
      "cell_type": "markdown",
      "source": [
        "## Additional Resources\n",
        "\n",
        "93. For more on plotting with `pandas` and `matplotlib`:\n",
        "- [`pandas`, Tutorials, \"Plotting\"](https://pandas.pydata.org/docs/getting_started/intro_tutorials/04_plotting.html)\n",
        "- [`pandas`, \"Plotting tools\"](https://pandas.pydata.org/docs/user_guide/visualization.html#plotting-tools)\n",
        "- [`pandas`, \"Plot formatting\"](https://pandas.pydata.org/docs/user_guide/visualization.html#plot-formatting)\n",
        "- [`pandas`, \"Plotting directly with matplotlib\"](https://pandas.pydata.org/docs/user_guide/visualization.html#plotting-directly-with-matplotlib)\n"
      ],
      "metadata": {
        "id": "d43kDRQXSSAN"
      }
    },
    {
      "cell_type": "markdown",
      "source": [
        "# Working with `pandas` and `seaborn`\n",
        "\n",
        "94. As we've covered previously, `matplotlib` gives you a wide range of base components to work with when generating plots.\n",
        "\n",
        "95. But, `matplotlib` does have limitations, and building a plot from the ground up, specifying each component can be cumbersome (and result in significant boilerplate code).\n",
        "\n",
        "96. Advanced statistical analysis with `matplotlib` is possible, but cumbersome.\n",
        "\n",
        "97. If you need to engage in advanced statistical analysis beyond what is easily accessible in `matplotlib`, `seaborn` is a statistical data visualization library that works well with `pandas`.\n",
        "\n",
        "98. \"`seaborn` is a Python data visualization library based on matplotlib. It provides a high-level interface for drawing attractive and informative statistical graphics\" ([\"Seaborn\"](https://seaborn.pydata.org/)).\n",
        "\n",
        "99. `seaborn` works with `numpy`, `scipy`, `pandas`, and `matplotlib` to simply high-level functions for common statistical plots.\n",
        "\n",
        "100. To install `seaborn` (run in the terminal):\n",
        "  * `pip install seaborn`\n",
        "  * `conda install seaborn`\n",
        "\n",
        "101. Let's compare `seaborn` and `matplotlib` using random walk data and a line plot. Sample line plot generated using only `matplotlib`:"
      ],
      "metadata": {
        "id": "2BjnWdWTSUik"
      }
    },
    {
      "cell_type": "code",
      "source": [
        "# import necessary packages\n",
        "import matplotlib.pyplot as plt\n",
        "import numpy as np\n",
        "import pandas as pd\n",
        "\n",
        "# create random walk data\n",
        "rng = np.random.RandomState(0)\n",
        "x = np.linspace(0, 10, 500)\n",
        "y = np.cumsum(rng.randn(500, 6), 0)\n",
        "\n",
        "# create figure\n",
        "fig, ax = plt.subplots()\n",
        "\n",
        "# generate line plot\n",
        "ax.plot(x, y)\n",
        "\n",
        "# create legend\n",
        "ax.legend('ABCDEF', ncol=2, loc='upper left')\n",
        "\n",
        "# show plot\n",
        "plt.show()"
      ],
      "metadata": {
        "id": "ViHn0bdESWAB"
      },
      "execution_count": null,
      "outputs": []
    },
    {
      "cell_type": "markdown",
      "source": [
        "102. An okay plot, but not particularly effective for this data.\n",
        "\n",
        "103. Let's generate the same plot with `seaborn` running on top of `matplotlib`."
      ],
      "metadata": {
        "id": "-sGcs3g9SW-Z"
      }
    },
    {
      "cell_type": "code",
      "source": [
        "# import seaborn package\n",
        "import seaborn as sns\n",
        "\n",
        "# set seaborn  style\n",
        "sns.set()\n",
        "\n",
        "# create figure\n",
        "fig, ax = plt.subplots()\n",
        "\n",
        "# generate line plot\n",
        "ax.plot(x, y)\n",
        "\n",
        "# create legend\n",
        "ax.legend('ABCDEF', ncol=2, loc='upper left')\n",
        "\n",
        "# show plot\n",
        "plt.show()"
      ],
      "metadata": {
        "id": "3v1RfD-FSYMm"
      },
      "execution_count": null,
      "outputs": []
    },
    {
      "cell_type": "markdown",
      "source": [
        "104. A simple way to incorporate `seaborn` with `matplotlib` is to use `seaborn`'s plot styling.\n",
        "\n",
        "105. `matplotlib` also has a few different style sheets based on `seaborn`.\n",
        "\n",
        "106. Let's look at a couple more sophisticated statistical plots built using `seaborn`.\n",
        "\n",
        "107. We can create a plot that highlights the relationship between resturaunt bill amount, tip, and meal time.\n",
        "\n",
        "108. This data comes from the `tips` example dataset already packaged in `seaborn`."
      ],
      "metadata": {
        "id": "ygFAc1p5SZbJ"
      }
    },
    {
      "cell_type": "code",
      "source": [
        "# import seaborn\n",
        "import seaborn as sns\n",
        "\n",
        "# apply default seaborn theme\n",
        "sns.set_theme()\n",
        "\n",
        "# load dataset already stored as dataframe\n",
        "tips = sns.load_dataset(\"tips\")\n",
        "\n",
        "# show tips df\n",
        "# tips\n",
        "\n",
        "# create plot\n",
        "sns.relplot(data=tips, x=\"total_bill\", y=\"tip\", col=\"time\", hue=\"smoker\", style=\"smoker\", size=\"size\",)"
      ],
      "metadata": {
        "id": "cczxdGBYSajW"
      },
      "execution_count": null,
      "outputs": []
    },
    {
      "cell_type": "markdown",
      "source": [
        "109. `seaborn` draws on `matplotlib`, but we don't need to directly load or import `matplotlib`.\n",
        "\n",
        "110. We load the `tips` dataset as a `DataFrame`.\n",
        "\n",
        "111. We then create a visualization that shows the relationships between the five dataset variables through the single call to the `.relplot()` function.\n",
        "\n",
        "112. We can start to think through all of the work happening behind the scenes in `matplotlib` to generate this visualization:\n",
        "- create figure/axes object with a 2, 1 subplot grid\n",
        "- create subplots\n",
        "- set tick values and labels for each axis for both subplots\n",
        "- set axis labels and plot titles for both subplots\n",
        "- set plot type for each subplot\n",
        "- set symbol types, color, and size for each type of datapoint, for each subplot\n",
        "- generate legend\n",
        "\n",
        "113. And the list goes on.\n",
        "\n",
        "114. `seaborn` handles all of those translations from the dataframe to `matplotlib` arguments.\n",
        "\n",
        "115. This simplifies the work of writing code to generate this plot.\n",
        "\n",
        "116. `seaborn`'s `.relplot()` function is designed to visualize statistical relationships.\n",
        "\n",
        "117. Sometimes scatterplots are the most effective way to show these relationships.\n",
        "\n",
        "118. But, in a relationship where one variable is a measure of time, a line can be a more effective representation.\n",
        "\n",
        "119. We can use the `kind` parameter with the `.relplot()` function to make this change.\n",
        "\n",
        "120. An example of `.relplot()` using a different sample dataset."
      ],
      "metadata": {
        "id": "MenTTRmmScnW"
      }
    },
    {
      "cell_type": "code",
      "source": [
        "# load sample dataset as dataframe\n",
        "dots = sns.load_dataset('dots')\n",
        "\n",
        "# show df\n",
        "# dots\n",
        "\n",
        "# creat line plot showing relationships\n",
        "sns.relplot(\n",
        "    data=dots, kind=\"line\",\n",
        "    x=\"time\", y=\"firing_rate\", col=\"align\",\n",
        "    hue=\"choice\", size=\"coherence\", style=\"choice\",\n",
        "    facet_kws=dict(sharex=False),\n",
        ")"
      ],
      "metadata": {
        "id": "3B18_O-aSdtG"
      },
      "execution_count": null,
      "outputs": []
    },
    {
      "cell_type": "markdown",
      "source": [
        "121. In this example, the `style` parameter impacted line weight and style, rather than marker size as it did in the previous example.\n",
        "\n",
        "122. A few other `seaborn` examples.\n",
        "\n",
        "123. Relationship plot that presents average of one variable as a function of other variables."
      ],
      "metadata": {
        "id": "OyJhj5GeSewl"
      }
    },
    {
      "cell_type": "code",
      "source": [
        "# load fmri data\n",
        "fmri = sns.load_dataset(\"fmri\")\n",
        "\n",
        "# show df\n",
        "# fmri\n",
        "\n",
        "# generate plot\n",
        "sns.relplot(\n",
        "    data=fmri, kind=\"line\",\n",
        "    x=\"timepoint\", y=\"signal\", col=\"region\",\n",
        "    hue=\"event\", style=\"event\",\n",
        ")"
      ],
      "metadata": {
        "id": "dXdc0VN7Sfpz"
      },
      "execution_count": null,
      "outputs": []
    },
    {
      "cell_type": "markdown",
      "source": [
        "124. `seaborn` estimates the statistical values using bootstrapping to compute confidence intervals and draw error bars to show uncertainty.\n",
        "\n",
        "125. We could go back to our bill and tip data to generate a scatterplot that includes a linear regression model."
      ],
      "metadata": {
        "id": "uwrlRAZDSg1b"
      }
    },
    {
      "cell_type": "code",
      "source": [
        "# linear model plot\n",
        "sns.lmplot(data=tips, x=\"total_bill\", y=\"tip\", col=\"time\", hue=\"smoker\")"
      ],
      "metadata": {
        "id": "iOxkmXoIShyC"
      },
      "execution_count": null,
      "outputs": []
    },
    {
      "cell_type": "markdown",
      "source": [
        "126. We can visualize variable distribution with kernel density estimation."
      ],
      "metadata": {
        "id": "fLOY0i1qSiwk"
      }
    },
    {
      "cell_type": "code",
      "source": [
        "# distribution plot with kernel density estimation\n",
        "sns.displot(data=tips, x=\"total_bill\", col=\"time\", kde=True)"
      ],
      "metadata": {
        "id": "HpeKudKUSkMW"
      },
      "execution_count": null,
      "outputs": []
    },
    {
      "cell_type": "markdown",
      "source": [
        "127. `seaborn` can also calculate and plot the empirical cumulative distribution function (`ecdf`)."
      ],
      "metadata": {
        "id": "P2IHP7vYSld1"
      }
    },
    {
      "cell_type": "code",
      "source": [
        "# distribution plot with empirical cumulative distribution function\n",
        "sns.displot(data=tips, kind=\"ecdf\", x=\"total_bill\", col=\"time\", hue=\"smoker\", rug=True)"
      ],
      "metadata": {
        "id": "dUwQdEn0Smas"
      },
      "execution_count": null,
      "outputs": []
    },
    {
      "cell_type": "markdown",
      "source": [
        "128. We can also generate plots that are geared toward categorical data.\n",
        "\n",
        "110. A `swarm` plot is a scatterplot with adjusted point positions on the categorical axis to minimize overlap"
      ],
      "metadata": {
        "id": "UPpr0dSkSn3K"
      }
    },
    {
      "cell_type": "code",
      "source": [
        "# categorical swarm plot\n",
        "sns.catplot(data=tips, kind=\"swarm\", x=\"day\", y=\"total_bill\", hue=\"smoker\")"
      ],
      "metadata": {
        "id": "HpeoZB-7SowE"
      },
      "execution_count": null,
      "outputs": []
    },
    {
      "cell_type": "markdown",
      "source": [
        "129. We could also display this categorical data using kernel density estimation and a violin plot."
      ],
      "metadata": {
        "id": "9UnpnULJSp61"
      }
    },
    {
      "cell_type": "code",
      "source": [
        "# categorical violin plot\n",
        "sns.catplot(data=tips, kind=\"violin\", x=\"day\", y=\"total_bill\", hue=\"smoker\", split=True)"
      ],
      "metadata": {
        "id": "BN8jAliISrRR"
      },
      "execution_count": null,
      "outputs": []
    },
    {
      "cell_type": "markdown",
      "source": [
        "130. We could also display this data with a grouped bar chart that shows mean values and confidence intervals for each category."
      ],
      "metadata": {
        "id": "QAPvsS08SsR7"
      }
    },
    {
      "cell_type": "code",
      "source": [
        "# categorical bar plot\n",
        "sns.catplot(data=tips, kind=\"bar\", x=\"day\", y=\"total_bill\", hue=\"smoker\")"
      ],
      "metadata": {
        "id": "GdVAypiPStTG"
      },
      "execution_count": null,
      "outputs": []
    },
    {
      "cell_type": "markdown",
      "source": [
        "131. This is just a taste of how `seaborn` works to generate more advanced statistical plots.\n",
        "\n",
        "132. Because the package integrates with `matplotlib`, customizing `seaborn` plots requires knowledge of `matplotlib` functionality and syntax.\n",
        "\n",
        "133. Dropping down to the `matplotlib` layer is not always necessary (as shown in these examples), but a robust `matplotlib` foundation is knowledge that transfers when working with `seaborn`.\n",
        "\n",
        "134. For more on `seaborn`:\n",
        "- [`seaborn`, \"seaborn: statistical data visualization\"](http://seaborn.pydata.org/)\n",
        "- [`seaborn`, \"Installing and getting started\"](https://seaborn.pydata.org/installing.html)\n",
        "- [`seaborn`, \"An introduction to seaborn\"](http://seaborn.pydata.org/introduction.html)\n",
        "- [`seaborn`, \"User guide and tutorial\"](http://seaborn.pydata.org/tutorial.html)\n",
        "- [`seaborn`, \"Example gallery\"](https://seaborn.pydata.org/examples/index.html)\n",
        "- [`seaborn`, \"API reference\"](https://seaborn.pydata.org/api.html)\n",
        "- [Jake VanderPlas, \"Visualization With Seaborn\" from *Python Data Science Handbook*](https://jakevdp.github.io/PythonDataScienceHandbook/04.14-visualization-with-seaborn.html)"
      ],
      "metadata": {
        "id": "3DWQjvklSvav"
      }
    },
    {
      "cell_type": "markdown",
      "source": [
        "## Lab Notebook Question 2\n",
        "\n",
        "Q2: Build at least two different types of plots using seaborn and data stored in a Pandas DataFrame. Include code + comments.\n",
        "- *I encourage folks to use this question to explore visualizations you might use for the final project.*\n",
        "\n",
        "For each plot, include the following elements or components:\n",
        "- Title\n",
        "- Axis labels\n",
        "- Legend\n",
        "- Scale or tickmarks\n",
        "- Data source\n",
        " \n",
        "Plot types to choose from:\n",
        "- Line plots\n",
        "- Bar chart\n",
        "- Histogram\n",
        "- Box plot\n",
        "- Area plot\n",
        "- Scatter plot\n",
        "\n",
        "Remember in `seaborn` our way into these discrete plot types if via a few overarching functions based on what aspects of the data we want to highlight:\n",
        "- `sns.replot()`\n",
        "  * Shows relationships\n",
        "  * Can be a scatterplot or line plot \n",
        "- `sns.lmplot()`\n",
        "  * Visualizes linear models\n",
        "  * Can include a combination of line plots and scatter plots\n",
        "- `sns.displot()`\n",
        "  * Shows value distribution\n",
        "  *  Can include histograms or bar charts\n",
        "- `sns.catplot()`\n",
        "  * Shows category dimensions\n",
        "  * Can include bar charts, box plots, violin plots \n"
      ],
      "metadata": {
        "id": "c7uLQpUoSxrK"
      }
    },
    {
      "cell_type": "markdown",
      "source": [
        "# Additional Resources for Statistical Analysis and Machine Learning\n",
        "\n",
        "135. With the exception of some of the `Seaborn` plot types explored at the end of the lab, most of the plots focus on methods for plotting summary statistics.\n",
        "\n",
        "136. Python can support a wide variety of statistical analysis methods and modelling techniques.\n",
        "\n",
        "137. `statsmodels` is a Python module that supports a variety of regression and linear models, time series analysis, survival and duration analysis, and multivariate statistics.\n",
        "- [Statsmodels documentation](https://www.statsmodels.org/stable/user-guide.html)\n",
        "\n",
        "138. `scikit-learn` is a machine learning Python library that supports a variety of classification algorithms (nearest neighbors, random forest, etc), regression models (nearest neighbors, random forest, etc), and clustering algorithms (k-Means, spectral, mean-shift, etc). \n",
        "\n",
        "139. `scikit-learn` incorporates/is built on `matplotlib` and has robust support for plotting and visualization.\n",
        "- [Scikit-learn documentation](https://scikit-learn.org/stable/)\n",
        "\n",
        "140. For a more holistic introduction to machine learning concept and workflows in Python:\n",
        "  * [Prof. Walden's \"Getting Started With Machine Learning in Python lab](https://github.com/kwaldenphd/machine-learning-intro/blob/main/ml-python-intro.md#machine-learning-libraries) "
      ],
      "metadata": {
        "id": "mJ0h4oFaU41w"
      }
    },
    {
      "cell_type": "markdown",
      "source": [
        "# Lab Notebook Questions\n",
        "\n",
        "[Link to lab notebook template (Jupyter Notebook)](https://drive.google.com/file/d/1qUT3e8D02oABf6DBjMEm6sb7thhk7wIR/view?usp=sharing)\n",
        "\n",
        "Q1: Build at least three different types of plots using matplotlib and data stored in a Pandas DataFrame. Include code + comments. \n",
        "- *I encourage folks to use this question to explore visualizations you might use for the final project.*\n",
        "\n",
        "For each plot, include the following elements or components:\n",
        "- Title\n",
        "- Axis labels\n",
        "- Legend\n",
        "- Scale or tickmarks\n",
        "- Data source\n",
        " \n",
        "Plot types to choose from:\n",
        "- Line plots\n",
        "- Bar chart\n",
        "- Grouped bar chart\n",
        "- Horizontal bar chart\n",
        "- Stacked bar chart\n",
        "- Histogram\n",
        "- Box plot\n",
        "- Area plot\n",
        "- Scatter plot\n",
        "- Pie chart\n",
        "- Map\n",
        "\n",
        "Q2: Build at least two different types of plots using seaborn and data stored in a Pandas DataFrame. Include code + comments.\n",
        "- *I encourage folks to use this question to explore visualizations you might use for the final project.*\n",
        "\n",
        "For each plot, include the following elements or components:\n",
        "- Title\n",
        "- Axis labels\n",
        "- Legend\n",
        "- Scale or tickmarks\n",
        "- Data source\n",
        " \n",
        "Plot types to choose from:\n",
        "- Line plots\n",
        "- Bar chart\n",
        "- Histogram\n",
        "- Box plot\n",
        "- Area plot\n",
        "- Scatter plot\n",
        "\n",
        "Remember in `seaborn` our way into these discrete plot types if via a few overarching functions based on what aspects of the data we want to highlight:\n",
        "- `sns.replot()`\n",
        "  * Shows relationships\n",
        "  * Can be a scatterplot or line plot \n",
        "- `sns.lmplot()`\n",
        "  * Visualizes linear models\n",
        "  * Can include a combination of line plots and scatter plots\n",
        "- `sns.displot()`\n",
        "  * Shows value distribution\n",
        "  *  Can include histograms or bar charts\n",
        "- `sns.catplot()`\n",
        "  * Shows category dimensions\n",
        "  * Can include bar charts, box plots, violin plots \n"
      ],
      "metadata": {
        "id": "5VbNgRaiU6h3"
      }
    }
  ],
  "metadata": {
    "kernelspec": {
      "display_name": "Python 3",
      "language": "python",
      "name": "python3"
    },
    "language_info": {
      "codemirror_mode": {
        "name": "ipython",
        "version": 3
      },
      "file_extension": ".py",
      "mimetype": "text/x-python",
      "name": "python",
      "nbconvert_exporter": "python",
      "pygments_lexer": "ipython3",
      "version": "3.8.8"
    },
    "colab": {
      "name": "python-more-with-matplotlib-procedure.ipynb",
      "provenance": [],
      "toc_visible": true,
      "collapsed_sections": [
        "5Qkkzg5pRR9_",
        "RH933-oMRbdn",
        "lbuQaBJjRdr1",
        "7pAdh9EvRf7x",
        "FP7lUFOrRiEo",
        "BkhUsM_oRkkx",
        "7B9KfYA2Rq4y",
        "U6gDMADLRxr9",
        "qay-Nq8iR5SG",
        "rxh6bbmpR7dM",
        "2JoejfnVSASQ",
        "6rayI6LySOxh",
        "CuivoAN_SQRg",
        "d43kDRQXSSAN",
        "c7uLQpUoSxrK"
      ],
      "include_colab_link": true
    }
  },
  "nbformat": 4,
  "nbformat_minor": 0
}