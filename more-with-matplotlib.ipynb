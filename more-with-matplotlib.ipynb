{
 "cells": [
  {
   "cell_type": "markdown",
   "metadata": {},
   "source": [
    "# More With `matplotlib`\n",
    "\n",
    "<a href=\"http://creativecommons.org/licenses/by-nc/4.0/\" rel=\"license\"><img style=\"border-width: 0;\" src=\"https://i.creativecommons.org/l/by-nc/4.0/88x31.png\" alt=\"Creative Commons License\" /></a>\n",
    "This tutorial is licensed under a <a href=\"http://creativecommons.org/licenses/by-nc/4.0/\" rel=\"license\">Creative Commons Attribution-NonCommercial 4.0 International License</a>.\n",
    "\n",
    "## Lab Goals\n",
    "\n",
    "This lab covers how to generate `matplotlib` plots for data stored in a `pandas` `DataFrame`. It provides an overview of how to generate a variety of common plot types, including line plots, bar charts, histograms, bax plots, area plots, scatter plots, and pie charts. It also covers how `pandas`'s plotting function handles missing data. It provides a comparison of the `matplotlib` and `seaborn` plotting packages and provides an introduction to `seaborn` with sample code. \n",
    "\n",
    "By the end of this lab, students will be able to:\n",
    "- Understand how to generate `matplotlib` plots for data stored in a `pandas` `DataFrame`, for a variety of plot types\n",
    "- Understand how to navigate the `pandas` documentation to troubleshoot and further explore `pandas`'s plotting functions\n",
    "- Understand the basic distinctions and relationship between `matplotlib` and `seaborn`\n",
    "\n",
    "[Click here](https://raw.githubusercontent.com/kwaldenphd/more-with-matplotlib/main/more-with-matplotlib.ipynb) and select the \"Save As\" option to download this lab as as Jupyter Notebook.\n",
    "\n",
    "## Acknowledgements\n",
    "\n",
    "The author consulted the following resources when writing  this tutorial:\n",
    "- Chapter 4.14 \"Visualization With Seaborn\" from Jake VanderPlas, [*Python Data Science Handbook: Essential Tools for Working with Data*](https://jakevdp.github.io/PythonDataScienceHandbook/04.14-visualization-with-seaborn.html ) (O'Reilly, 2016)\n",
    "- `pandas`, [User Guide, \"Visualization\"](https://pandas.pydata.org/docs/user_guide/visualization.html)\n",
    "- `pandas`, [Getting Started, \"Plotting\"](https://pandas.pydata.org/docs/getting_started/intro_tutorials/04_plotting.html)\n",
    "- Chapter 9 \"Plotting and Visualization\" from Wes McKinney, [*Python for Data Analysis: Data Wrangling With pandas, Numpy, and IPython*](https://www.oreilly.com/library/view/python-for-data/9781491957653/) (O'Reilly, 2017)\n",
    "- Chapter 15 \"Generating Data\" from Eric Matthes, [*Python Crash Course: A Hands-On, Project-Based Introduction to Programming*](https://ehmatthes.github.io/pcc/) (No Starch Press, 2019).\n",
    "- [`seaborn` package documentation](https://seaborn.pydata.org/introduction.html)\n",
    "\n",
    "# Table of Contents\n",
    "\n",
    "- [`pandas` and `matplotlib`](#pandas-and-matplotlib)\n",
    "  * [Plotting in `pandas`Uusing `.plot()`](#plotting-in-pandas-using-plot)\n",
    "    * [Time Series Data and Line Plots](#time-series-data-and-line-plots)\n",
    "    * [Bar Charts](#bar-charts)\n",
    "      * [Grouped Bar Charts](#grouped-bar-charts)\n",
    "      * [Stacked Bar Charts](#stacked-bar-charts)\n",
    "      * [Horizontal Bar Charts](#horizontal-bar-charts)\n",
    "    * [Histograms](#histograms)\n",
    "    * [Box Plots](#box-plots)\n",
    "    * [Area Plots](#area-plots)\n",
    "    * [Scatter Plots](#scatter-plots)\n",
    "    * [Pie Charts](#pie-charts)\n",
    "  * [`.plot()` and Missing Data](#plot-and-missing-data)\n",
    "- [Working with `pandas` and `seaborn`](#working-with-pandas-and-seaborn)\n",
    "- [Project Prompts](#project-prompts)\n",
    "- [Lab Notebook Questions](#lab-notebook-questions)\n",
    "\n",
    "# `pandas` and `matplotlib`\n",
    "\n",
    "1. Having to load data manually to build a visualization or plot gets cumbersome quickly.\n",
    "\n",
    "2. In many situations, we might want to work with data in a `pandas` `DataFrame` when building a visualization.\n",
    "\n",
    "3. `pandas` includes a `.plot()` attribute that interacts with the `matplotlib` API to generate plots.\n",
    "\n",
    "4. The `pandas` `.plot()` attribute relies on the `matplotlib` API to generate plots, so our work with `matplotlib` will come in handy when we need to customize plots generated using `.plot()`.\n",
    "\n",
    "5. And in many cases, the `.plot()` syntax is similar to `matplotlib` `OO` syntax.\n",
    "\n",
    "## Plotting in `pandas` Using `.plot()`\n",
    "\n",
    "6. Let's go back to the air quality data we were working with previously in `pandas`.\n",
    "\n",
    "7. To load the data as a dataframe:"
   ]
  },
  {
   "cell_type": "code",
   "execution_count": null,
   "metadata": {},
   "outputs": [],
   "source": [
    "# import pandas\n",
    "import pandas as pd\n",
    "\n",
    "# load data from url to dataframe\n",
    "air_quality = pd.read_csv('https://raw.githubusercontent.com/kwaldenphd/more-with-matplotlib/main/air_quality_no2.csv', index_col=0, parse_dates=True)\n",
    "\n",
    "# check data has loaded\n",
    "air_quality.head()"
   ]
  },
  {
   "cell_type": "markdown",
   "metadata": {},
   "source": [
    "8. We can do a quick visual check of the data by passing the entire data frame to `.plot()`."
   ]
  },
  {
   "cell_type": "code",
   "execution_count": null,
   "metadata": {},
   "outputs": [],
   "source": [
    "# import matplotlib\n",
    "import matplotlib.pyplot as plt\n",
    "\n",
    "# generate plot\n",
    "air_quality.plot()\n",
    "\n",
    "# show plot\n",
    "plt.show()"
   ]
  },
  {
   "cell_type": "markdown",
   "metadata": {},
   "source": [
    "9. This isn't a particularly meaningful visualization, but it shows us how the default for `.plot()` creates a line for each column with numeric data.\n",
    "\n",
    "10. The index is used for the `X` axis, and all numeric columns are plotted on the `Y` axis.\n",
    "\n",
    "11. We can also see that `.plot()` pulls tick marks, tick labels, and axis titles from the underlying `dataframe`.\n",
    "\n",
    "12. Let's say we only wanted to plot Paris data.\n",
    "\n",
    "13. We can select that column in the `dataframe` before calling `.plot()`."
   ]
  },
  {
   "cell_type": "code",
   "execution_count": null,
   "metadata": {},
   "outputs": [],
   "source": [
    "air_quality[\"station_paris\"].plot()"
   ]
  },
  {
   "cell_type": "markdown",
   "metadata": {},
   "source": [
    "14. We can plot a specific column in the `dataframe` using the `[\" \"]` selection method.\n",
    "\n",
    "15. Let's say we want to visually compare NO<sub>2</sub> values measured in London and Paris.\n",
    "\n",
    "16. We need to specify what column is going to be used for the `X` axis as well as what column is going to be used for the `Y` axis.\n",
    "\n",
    "17. For this example, a scatterplot will be more effective than a lineplot.\n",
    "\n",
    "18. We can create a scatterplot using `.plot.scatter()`."
   ]
  },
  {
   "cell_type": "code",
   "execution_count": null,
   "metadata": {},
   "outputs": [],
   "source": [
    "air_quality.plot.scatter(x=\"station_london\", y=\"station_paris\", alpha=0.5)"
   ]
  },
  {
   "cell_type": "markdown",
   "metadata": {},
   "source": [
    "19. This example generates a scatterplot with London data on the `X` axis and Paris data on the `Y` axis.\n",
    "\n",
    "20. While the default for `.plot()` is a lineplot, there are a number of other methods we can use with `.plot()`.\n",
    "\n",
    "21. Again, you will see some overlap with `matplotlib` syntax.\n",
    "\n",
    "22. We can use these strings as as method in combination with `.plot()` or we can pass them to `.plot()` as a `kind` parameter.\n",
    "\n",
    "<table>\n",
    "    <tr>\n",
    "        <td>Plot Type</td>\n",
    "        <td>Method Syntax</td>\n",
    "        <td>Parameter Syntax</td>\n",
    "    </tr>\n",
    "    <tr>\n",
    "        <td>Default (line)</td>\n",
    "        <td>`.plot()`</td>\n",
    "        <td>NA</td>\n",
    "    </tr>\n",
    "    <tr>\n",
    "        <td>Area</td>\n",
    "        <td>`.plot.area()`</td>\n",
    "        <td>`.plot(kind='area')`</td>\n",
    "    </tr>\n",
    "    <tr>\n",
    "        <td>Bar</td>\n",
    "        <td>`.plot.bar()`</td>\n",
    "        <td>`.plot(kind='bar')`</td>\n",
    "    </tr>\n",
    "    <tr>\n",
    "        <td>Horizontal bar</td>\n",
    "        <td>`.plot.barh()`</td>\n",
    "        <td>`.plot(kind='barh')`</td>\n",
    "    </tr>\n",
    "    <tr>\n",
    "        <td>Box</td>\n",
    "        <td>`.plot.box()`</td>\n",
    "        <td>`.plot(kind='box')`</td>\n",
    "    </tr>\n",
    "    <tr>\n",
    "        <td>Density</td>\n",
    "        <td>`.plot.density()`</td>\n",
    "        <td>`.plot(kind='density')`</td>\n",
    "    </tr>\n",
    "    <tr>\n",
    "        <td>Hexbin</td>\n",
    "        <td>`.plot.hexbin()`</td>\n",
    "        <td>`.plot(kind='hexbin')`</td>\n",
    "    </tr>\n",
    "    <tr>\n",
    "        <td>Histogram</td>\n",
    "        <td>`.plot.hist()`</td>\n",
    "        <td>`.plot(kind='hist')`</td>\n",
    "    </tr>\n",
    "    <tr>\n",
    "        <td>Kernel density</td>\n",
    "        <td>`.plot.kde()`</td>\n",
    "        <td>`.plot(kind='hist')`</td>\n",
    "    </tr>\n",
    "    <tr>\n",
    "        <td>Line</td>\n",
    "        <td>`.plot.line()`</td>\n",
    "        <td>`.plot(kind='line')` *this would be redundant since the default for `.plot()` is line*</td>\n",
    "    </tr>\n",
    "    <tr>\n",
    "        <td>Pie</td>\n",
    "        <td>`.plot.pie()`</td>\n",
    "        <td>`.plot(kind='pie')`</td>\n",
    "    </tr>\n",
    "    <tr>\n",
    "        <td>Scatter</td>\n",
    "        <td>`.plot.scatter()`</td>\n",
    "        <td>`.plot(kind='scatter')`</td>\n",
    "    </tr>\n",
    "</table>\n",
    "\n",
    "23. In general, it's more effective to use the method syntax to note plot type, rather than treating plot type as a parameter.\n",
    "\n",
    "24. Let's create a box plot using our air quality data."
   ]
  },
  {
   "cell_type": "code",
   "execution_count": null,
   "metadata": {},
   "outputs": [],
   "source": [
    "air_quality.plot.box()"
   ]
  },
  {
   "cell_type": "markdown",
   "metadata": {},
   "source": [
    "25. We can see each numeric column (each station) has its own box in the default boxplot.\n",
    "\n",
    "26. Let's say we wanted to generate a lineplot with separate subplots for each of the numeric columns.\n",
    "\n",
    "27. We can accomplish this by setting the `subplots` parameter to `True`."
   ]
  },
  {
   "cell_type": "code",
   "execution_count": null,
   "metadata": {},
   "outputs": [],
   "source": [
    "axs = air_quality.plot.area(figsize=(12, 4), subplots=True)"
   ]
  },
  {
   "cell_type": "markdown",
   "metadata": {},
   "source": [
    "28. Let's say we want to further customize this plot.\n",
    "\n",
    "29. This is where we start to see more `matplotlib` syntax in play."
   ]
  },
  {
   "cell_type": "code",
   "execution_count": null,
   "metadata": {},
   "outputs": [],
   "source": [
    "# create figure and axes\n",
    "fig, axs = plt.subplots(figsize=(12, 4))\n",
    "\n",
    "# build area plot\n",
    "air_quality.plot.area(ax=axs)\n",
    "\n",
    "# set y axis label\n",
    "axs.set_ylabel(\"NO$_2$ concentration\")\n",
    "\n",
    "# save plot as png file\n",
    "fig.savefig(\"no2_concentrations.png\")"
   ]
  },
  {
   "cell_type": "markdown",
   "metadata": {},
   "source": [
    "30. Each plot object created by `pandas` is also a `matplotlib` object.\n",
    "\n",
    "31. Having a deep knowledge of `matplotlib` allows you to customize plots generated using `pandas` `.plot()` function.\n",
    "\n",
    "32. That said, there are some parameters you can set as part of `.plot()` without having to have separate `matplotlib` syntax commands.\n",
    "\n",
    "33. The plot `kind` is one parameter option, as is the `dataframe`, `X` axis data, and `Y` axis data.\n",
    "\n",
    "34. Other parameters:\n",
    "\n",
    "<table>\n",
    "    <tr>\n",
    "        <td>Parameter</td>\n",
    "        <td>Explanation</td>\n",
    "    </tr>\n",
    "    <tr>\n",
    "        <td>`ax`</td>\n",
    "        <td>`matplotlib` `axes` object; axes for the current figure</td>\n",
    "    </tr>\n",
    "    <tr>\n",
    "        <td>`subplots`</td>\n",
    "        <td>Default is `False`; set to `True` to enable multiple plots in the same figure</td>\n",
    "    </tr>\n",
    "    <tr>\n",
    "        <td>`layout`</td>\n",
    "        <td>Follows `(rows, columns)` syntax to set subplot layout</td>\n",
    "    </tr>\n",
    "    <tr>\n",
    "        <td>`figsize`</td>\n",
    "        <td>Follows `(width, height)` syntax; Sets figure object width and height in inches</td>\n",
    "    </tr>\n",
    "    <tr>\n",
    "        <td>`use_Index`</td>\n",
    "        <td>Default is `True`; uses dataframe index as ticks for `X` axis</td>\n",
    "    </tr>\n",
    "    <tr>\n",
    "        <td>`title`</td>\n",
    "        <td>Title to use for the plot; can take a list with titles for corresponding subplots</td>\n",
    "    </tr>\n",
    "    <tr>\n",
    "        <td>`grid`</td>\n",
    "        <td>Default is `False`; set to `True` to show axis grid lines</td>\n",
    "    </tr>\n",
    "    <tr>\n",
    "        <td>`legend`</td>\n",
    "        <td>Places legend on axis subplot</td>\n",
    "    </tr>\n",
    "    <tr>\n",
    "        <td>`xticks`</td>\n",
    "        <td>Values to use for `X` axis ticks</td>\n",
    "    </tr>\n",
    "    <tr>\n",
    "        <td>`yticks`</td>\n",
    "        <td>Values to use for `Y` axis ticks</td>\n",
    "    </tr>\n",
    "    <tr>\n",
    "        <td>`xlim`</td>\n",
    "        <td>Follows `(lower limit, upper limit)` syntax; Sets `X` axis limits</td>\n",
    "    </tr>\n",
    "    <tr>\n",
    "        <td>`ylim`</td>\n",
    "        <td>Follows `(lower limit, upper limit)` syntax; Sets `Y` axis limits</td>\n",
    "    </tr>\n",
    "    <tr>\n",
    "        <td>`xlabel`</td>\n",
    "        <td>Label for `X` axis; default uses index column name</td>\n",
    "    </tr>\n",
    "    <tr>\n",
    "        <td>`ylabel`</td>\n",
    "        <td>Label for `Y` axis; default uses `Y` column name</td>\n",
    "    </tr>\n",
    "    <tr>\n",
    "        <td>`fontsize`</td>\n",
    "        <td>Sets font size for tickmarks</td>\n",
    "    </tr>\n",
    "    <tr>\n",
    "        <td>`colormap`</td>\n",
    "        <td>Sets `matplotlib` colormap to select colors from</td>\n",
    "    </tr>\n",
    "    <tr>\n",
    "        <td>`table`</td>\n",
    "        <td>Default is `False`; set to `True` to draw a table from data in the `DataFrame`</td>\n",
    "    </tr>\n",
    "    <tr>\n",
    "        <td>`stacked`</td>\n",
    "        <td>Default is `False` in line and bar plots, `True` in area plot; if `True`, creates stacked plot</td>\n",
    "    </tr>\n",
    "</table>\n",
    "\n",
    "35. For more parameters that can be passed to `.plot()`: [`pandas.DataFrame.plot`](https://pandas.pydata.org/pandas-docs/stable/reference/api/pandas.DataFrame.plot.html)\n",
    "\n",
    "36. Let's walk through a few more examples of using `.plot()` with a `pandas` `DataFrame`.\n",
    "\n",
    "37. NOTE: The `.plot()` method can be used on `pandas` `Series` and `DataFrame`. These examples focus on `DataFrame`s.\n",
    "\n",
    "### Time Series Data and Line Plots\n",
    "\n",
    "38. Let's generate some random time series data."
   ]
  },
  {
   "cell_type": "code",
   "execution_count": null,
   "metadata": {},
   "outputs": [],
   "source": [
    "# import pandas\n",
    "import pandas as pd\n",
    "\n",
    "# import matplotlib\n",
    "import matplotlib.pyplot as plt\n",
    "\n",
    "# import numpy\n",
    "import numpy as np\n",
    "\n",
    "# create series with random numbers organized over time series\n",
    "ts = pd.Series(np.random.randn(1000), index=pd.date_range(\"1/1/2000\", periods=1000))\n",
    "\n",
    "# cumulative sum calculated by iterating over Series\n",
    "ts = ts.cumsum()\n",
    "\n",
    "# generate line plot\n",
    "ts.plot()"
   ]
  },
  {
   "cell_type": "markdown",
   "metadata": {},
   "source": [
    "39. In this example, our `Series` index labels are specified using `pd.date_range()`.\n",
    "\n",
    "40. These are the `X` axis values.\n",
    "\n",
    "41. The index values are the 1000 random values generated by `np.random.randn()`.\n",
    "\n",
    "42. We use the cumulative sum `.cumsum` to determine the total value for each unique time in the series.\n",
    "\n",
    "43. Let's modify this example to use a `DataFrame`."
   ]
  },
  {
   "cell_type": "code",
   "execution_count": null,
   "metadata": {},
   "outputs": [],
   "source": [
    "# create new dataframe with random numbers, the original time series index, and four columns\n",
    "df = pd.DataFrame(np.random.randn(1000, 4), index=ts.index, columns=list(\"ABCD\"))\n",
    "\n",
    "# calculate cumulative sum\n",
    "df = df.cumsum()\n",
    "\n",
    "# create figure\n",
    "plt.figure()\n",
    "\n",
    "# create plot\n",
    "df.plot()"
   ]
  },
  {
   "cell_type": "markdown",
   "metadata": {},
   "source": [
    "44. For more on line plots:\n",
    "- [`pandas`, \"Basic plotting\"](https://pandas.pydata.org/docs/user_guide/visualization.html#basic-plotting-plot)\n",
    "- [`pandas.DataFrame.plot`](https://pandas.pydata.org/pandas-docs/stable/reference/api/pandas.DataFrame.plot.html)\n",
    "- [`pandas.DataFrame.plot.line`](https://pandas.pydata.org/pandas-docs/stable/reference/api/pandas.DataFrame.plot.line.html)\n",
    "\n",
    "### Bar Charts\n",
    "\n",
    "45. Let's say we want to create a bar chart with a single line of data from our `df` `DataFrame`.\n",
    "\n",
    "46. We can select a specific row using `iloc`."
   ]
  },
  {
   "cell_type": "code",
   "execution_count": null,
   "metadata": {},
   "outputs": [],
   "source": [
    "# create figure\n",
    "plt.figure()\n",
    "\n",
    "# create bar plot for single row of data\n",
    "df.iloc[5].plot.bar()\n",
    "\n",
    "# show plot\n",
    "plt.show()"
   ]
  },
  {
   "cell_type": "markdown",
   "metadata": {},
   "source": [
    "#### Grouped Bar Charts\n",
    "\n",
    "47. Let's say we want to produce a grouped bar chart.\n",
    "\n",
    "48. We can create a `DataFrame` with four columns and random values."
   ]
  },
  {
   "cell_type": "code",
   "execution_count": null,
   "metadata": {},
   "outputs": [],
   "source": [
    "# create dataframe\n",
    "df2 = pd.DataFrame(np.random.randn(10, 4), columns=['a', 'b', 'c', 'd'])\n",
    "\n",
    "# generate bar chart\n",
    "df2.plot.bar()"
   ]
  },
  {
   "cell_type": "markdown",
   "metadata": {},
   "source": [
    "\n",
    "49. By default, `.plot.bar()` creates a separate bar for each of the numeric columns.\n",
    "\n",
    "50. We could select a single column using `['']` to only show one bar or column value.\n",
    "\n",
    "#### Stacked Bar Charts\n",
    "\n",
    "51. If we wanted to show this data as a stacked bar chart, we would set the `stacked` parameter to `True`."
   ]
  },
  {
   "cell_type": "code",
   "execution_count": null,
   "metadata": {},
   "outputs": [],
   "source": [
    "df2.plot.bar(stacked=True)"
   ]
  },
  {
   "cell_type": "markdown",
   "metadata": {},
   "source": [
    "#### Horizontal Bar Charts\n",
    "\n",
    "52. Remember `.plot.barh()` generates a horizontal bar chart, and we can also set `stacked` to `True` here to create a horizontal stacked bar chart."
   ]
  },
  {
   "cell_type": "code",
   "execution_count": null,
   "metadata": {},
   "outputs": [],
   "source": [
    "df2.plot.barh(stacked=True)"
   ]
  },
  {
   "cell_type": "markdown",
   "metadata": {},
   "source": [
    "53. For more on bar charts:\n",
    "- [`pandas`, \"Bar plots\"](https://pandas.pydata.org/docs/user_guide/visualization.html#bar-plots)\n",
    "- [`pandas.DataFrame.plot`](https://pandas.pydata.org/pandas-docs/stable/reference/api/pandas.DataFrame.plot.html)\n",
    "- [`pandas.DataFrame.plot.bar`](https://pandas.pydata.org/pandas-docs/stable/reference/api/pandas.DataFrame.plot.bar.html)\n",
    "- [`pandas.DataFrame.plot.barh`](https://pandas.pydata.org/pandas-docs/stable/reference/api/pandas.DataFrame.plot.barh.html)\n",
    "\n",
    "### Histograms\n",
    "\n",
    "54. The `.plot.hist()` method will generate a histogram.\n",
    "\n",
    "55. We can also use `.hist()` to generate a histogram."
   ]
  },
  {
   "cell_type": "code",
   "execution_count": null,
   "metadata": {},
   "outputs": [],
   "source": [
    "# create dataframe with three columns using dictionary with random number data\n",
    "df4 = pd.DataFrame({\"a\": np.random.randn(1000) + 1, \"b\": np.random.randn(1000), \"c\": np.random.randn(1000) - 1,}, columns=[\"a\", \"b\", \"c\"],)\n",
    "\n",
    "# create figure object\n",
    "plt.figure()\n",
    "\n",
    "# create histogram\n",
    "df4.plot.hist(alpha=0.5)"
   ]
  },
  {
   "cell_type": "markdown",
   "metadata": {},
   "source": [
    "56. We can set `stacked` to `True` to create a stacked histogram."
   ]
  },
  {
   "cell_type": "code",
   "execution_count": null,
   "metadata": {},
   "outputs": [],
   "source": [
    "df4.hist(stacked=True)"
   ]
  },
  {
   "cell_type": "markdown",
   "metadata": {},
   "source": [
    "57. We can also specify the bin size using the `bins` keyword."
   ]
  },
  {
   "cell_type": "code",
   "execution_count": null,
   "metadata": {},
   "outputs": [],
   "source": [
    "df4.plot.hist(bins=20)"
   ]
  },
  {
   "cell_type": "markdown",
   "metadata": {},
   "source": [
    "58. We can use the `.hist()` method in `matplotlib` to further customize our histogram: [`matplotlib.axes.Axes.hist`](https://matplotlib.org/api/_as_gen/matplotlib.axes.Axes.hist.html#matplotlib.axes.Axes.hist)\n",
    "\n",
    "59. For more on histograms:\n",
    "- [`pandas`, \"Visualization, Histograms\"](https://pandas.pydata.org/docs/user_guide/visualization.html#visualization-hist)\n",
    "- [`pandas.DataFrame.plot.hist`](https://pandas.pydata.org/pandas-docs/stable/reference/api/pandas.DataFrame.plot.hist.html)\n",
    "- [`pandas.DataFrame.hist`](https://pandas.pydata.org/pandas-docs/stable/reference/api/pandas.DataFrame.hist.html)\n",
    "\n",
    "### Box plots\n",
    "\n",
    "60. We can generate box plots using `.plot.box()` or `.boxplot()`.\n",
    "\n",
    "61. The default settings visualize the distribution of values within each column.\n",
    "\n",
    "62. Back to our random number `DataFrame`, this time with five columns."
   ]
  },
  {
   "cell_type": "code",
   "execution_count": null,
   "metadata": {},
   "outputs": [],
   "source": [
    "# create dataframe\n",
    "df = pd.DataFrame(np.random.randn(10, 5), columns=['A', 'B', 'C', 'D', 'E'])\n",
    "\n",
    "# create plot\n",
    "df.plot.box()"
   ]
  },
  {
   "cell_type": "markdown",
   "metadata": {},
   "source": [
    "63. We can add colors to our box plot using the `color` keyword."
   ]
  },
  {
   "cell_type": "code",
   "execution_count": null,
   "metadata": {},
   "outputs": [],
   "source": [
    "df.plot.box(color='blue')"
   ]
  },
  {
   "cell_type": "markdown",
   "metadata": {},
   "source": [
    "64. We can also use a dictionary with key-value pairs for each component of our box plot."
   ]
  },
  {
   "cell_type": "code",
   "execution_count": null,
   "metadata": {},
   "outputs": [],
   "source": [
    "# set color dictionary\n",
    "color = {\"boxes\": \"DarkGreen\", \"whiskers\": \"DarkOrange\", \"medians\": \"DarkBlue\", \"caps\": \"Gray\",}\n",
    "\n",
    "# draw plot and specify colors and outlier symbol using keyword argument or kwarg\n",
    "df.plot.box(color=color, sym=\"r+\")"
   ]
  },
  {
   "cell_type": "markdown",
   "metadata": {},
   "source": [
    "65. For more on box plots:\n",
    "- [`pandas`, \"Visualization, Box plots\"](https://pandas.pydata.org/docs/user_guide/visualization.html#box-plots)\n",
    "- [`pandas.DataFrame.plot.box`](https://pandas.pydata.org/pandas-docs/stable/reference/api/pandas.DataFrame.plot.box.html)\n",
    "- [`pandas.DataFrame.boxplot`](https://pandas.pydata.org/pandas-docs/stable/reference/api/pandas.DataFrame.boxplot.html)\n",
    "\n",
    "### Area Plots\n",
    "\n",
    "66. Basic syntax:"
   ]
  },
  {
   "cell_type": "code",
   "execution_count": null,
   "metadata": {},
   "outputs": [],
   "source": [
    "df = pd.DataFrame(np.random.rand(10, 4), columns=[\"a\", \"b\", \"c\", \"d\"])\n",
    "\n",
    "df.plot.area()"
   ]
  },
  {
   "cell_type": "markdown",
   "metadata": {},
   "source": [
    "67. For more on area plots:\n",
    "- [`pandas`, \"Visualization, Area plot\"](https://pandas.pydata.org/docs/user_guide/visualization.html#area-plot)\n",
    "- [`pandas.DataFrame.plot`](https://pandas.pydata.org/pandas-docs/stable/reference/api/pandas.DataFrame.plot.html)\n",
    "- [`pandas.DataFrame.plot.area`](https://pandas.pydata.org/pandas-docs/stable/reference/api/pandas.DataFrame.plot.area.html)\n",
    "\n",
    "### Scatter Plots\n",
    "\n",
    "68. Basic syntax:"
   ]
  },
  {
   "cell_type": "code",
   "execution_count": null,
   "metadata": {},
   "outputs": [],
   "source": [
    "df = pd.DataFrame(np.random.rand(50, 4), columns=[\"a\", \"b\", \"c\", \"d\"])\n",
    "\n",
    "df.plot.scatter(x=\"a\", y=\"b\")"
   ]
  },
  {
   "cell_type": "markdown",
   "metadata": {},
   "source": [
    "69. For more on scatter plots:\n",
    "- [`pandas`, \"Visualization, Scatter plot\"](https://pandas.pydata.org/docs/user_guide/visualization.html#scatter-plot)\n",
    "- [`pandas.DataFrame.plot`](https://pandas.pydata.org/pandas-docs/stable/reference/api/pandas.DataFrame.plot.html)\n",
    "- [`pandas.DataFrame.plot.scatter`](https://pandas.pydata.org/pandas-docs/stable/reference/api/pandas.DataFrame.plot.scatter.html)\n",
    "\n",
    "### Pie Charts\n",
    "\n",
    "70. Basic syntax:"
   ]
  },
  {
   "cell_type": "code",
   "execution_count": null,
   "metadata": {},
   "outputs": [],
   "source": [
    "series = pd.Series(3 * np.random.rand(4), index=[\"a\", \"b\", \"c\", \"d\"], name=\"series\")\n",
    "\n",
    "series.plot.pie(figsize=(6, 6))"
   ]
  },
  {
   "cell_type": "markdown",
   "metadata": {},
   "source": [
    "71. For more on pie plots:\n",
    "- [`pandas`, \"Visualization, Scatter plot\"](https://pandas.pydata.org/docs/user_guide/visualization.html#scatter-plot)\n",
    "- [`pandas.DataFrame.plot`](https://pandas.pydata.org/pandas-docs/stable/reference/api/pandas.DataFrame.plot.html)\n",
    "- [`pandas.DataFrame.plot.scatter`](https://pandas.pydata.org/pandas-docs/stable/reference/api/pandas.DataFrame.plot.scatter.html)"
   ]
  },
  {
   "cell_type": "markdown",
   "metadata": {},
   "source": [
    "<blockquote>Q1: Build at least three different types of plots using matplotlib and data stored in a Pandas DataFrame. Include code + comments.\n",
    " \n",
    "Each plot should include the following elements:\n",
    " <ul>\n",
    "  <li>Title</li>\n",
    "  <li>Axis labels</li>\n",
    "  <li>Legend</li>\n",
    "  <li>Scale or tickmarks</li>\n",
    "  <li>Data source</li>\n",
    " </ul>\n",
    " \n",
    "Plot types to choose from:\n",
    " <ul>\n",
    " <li>Line plots</li>\n",
    " <li>Bar chart</li>\n",
    " <li>Grouped bar chart</li>\n",
    " <li>Horizontal bar chart</li>\n",
    " <li>Stacked bar chart</li>\n",
    " <li>Histogram</li>\n",
    " <li>Box plot</li>\n",
    " <li>Area plot</li>\n",
    " <li>Scatter plot</li>\n",
    " <li>Pie chart</li>\n",
    " </ul>\n",
    " </blockquote>"
   ]
  },
  {
   "cell_type": "markdown",
   "metadata": {},
   "source": [
    "## `.plot()` and Missing Data\n",
    "\n",
    "72. Just like `pandas` has built-in settings for handling missing data or `NaN` values, the `.plot()` method also has default settings for how each type of plot handles missing data.\n",
    "\n",
    "<table>\n",
    "    <tr>\n",
    "        <td>Plot Type</td>\n",
    "        <td>NaN Handling</td>\n",
    "    </tr>\n",
    "    <tr>\n",
    "        <td>Line</td>\n",
    "        <td>Leaves gaps</td>\n",
    "    </tr>\n",
    "    <tr>\n",
    "        <td>Stacked line</td>\n",
    "        <td>Fills 0s</td>\n",
    "    </tr>\n",
    "    <tr>\n",
    "        <td>Bar</td>\n",
    "        <td>Fills 0s</td>\n",
    "    </tr>\n",
    "    <tr>\n",
    "        <td>Scatter</td>\n",
    "        <td>Drops missing values</td>\n",
    "    </tr>\n",
    "    <tr>\n",
    "        <td>Histogram</td>\n",
    "        <td>Drops missing values (column-wise)</td>\n",
    "    </tr>\n",
    "    <tr>\n",
    "        <td>Box</td>\n",
    "        <td>Drops missing values (column-wise)</td>\n",
    "    </tr>\n",
    "    <tr>\n",
    "        <td>Area</td>\n",
    "        <td>Fills 0s</td>\n",
    "    </tr>\n",
    "    <tr>\n",
    "        <td>Kernel density (KDE)</td>\n",
    "        <td>Drops missing values (column-wise)</td>\n",
    "    </tr>\n",
    "    <tr>\n",
    "        <td>Hexbin</td>\n",
    "        <td>Drops missing values</td>\n",
    "    </tr>\n",
    "    <tr>\n",
    "        <td>Pie</td>\n",
    "        <td>Fills 0s</td>\n",
    "    </tr>\n",
    "</table>\n",
    "\n",
    "73. To customize or alter these default settings, you would use `.fillna()` or `.dropna()` to filter the `DataFrame` before generating the plot.\n",
    "\n",
    "## Additional Resources\n",
    "\n",
    "74. For more on plotting with `pandas` and `matplotlib`:\n",
    "- [`pandas`, Tutorials, \"Plotting\"](https://pandas.pydata.org/docs/getting_started/intro_tutorials/04_plotting.html)\n",
    "- [`pandas`, \"Plotting tools\"](https://pandas.pydata.org/docs/user_guide/visualization.html#plotting-tools)\n",
    "- [`pandas`, \"Plot formatting\"](https://pandas.pydata.org/docs/user_guide/visualization.html#plot-formatting)\n",
    "- [`pandas`, \"Plotting directly with matplotlib\"](https://pandas.pydata.org/docs/user_guide/visualization.html#plotting-directly-with-matplotlib)\n",
    "\n",
    "# Working with `pandas` and `seaborn`\n",
    "\n",
    "75. As we've covered previously, `matplotlib` gives you a wide range of base components to work with when generating plots.\n",
    "\n",
    "76. But, `matplotlib` does have limitations, and building a plot from the ground up, specifying each component can be cumbersome (and result in significant boilerplate code).\n",
    "\n",
    "77. Advanced statistical analysis with `matplotlib` is possible, but cumbersome.\n",
    "\n",
    "78. If you need to engage in advanced statistical analysis beyond what is easily accessible in `matplotlib`, `seaborn` is a statistical data visualization library that works well with `pandas`.\n",
    "\n",
    "79. \"`seaborn` is a Python data visualization library based on matplotlib. It provides a high-level interface for drawing attractive and informative statistical graphics\" ([\"Seaborn\"](https://seaborn.pydata.org/).\n",
    "\n",
    "80. `seaborn` works with `numpy`, `scipy`, `pandas`, and `matplotlib` to simply high-level functions for common statistical plots.\n",
    "\n",
    "81. Let's compare `seaborn` and `matplotlib` using random walk data and a line plot.\n",
    "\n",
    "82. Sample line plot generated using only `matplotlib`:"
   ]
  },
  {
   "cell_type": "code",
   "execution_count": null,
   "metadata": {},
   "outputs": [],
   "source": [
    "# import necessary packages\n",
    "import matplotlib.pyplot as plt\n",
    "import numpy as np\n",
    "import pandas as pd\n",
    "\n",
    "# create random walk data\n",
    "rng = np.random.RandomState(0)\n",
    "x = np.linspace(0, 10, 500)\n",
    "y = np.cumsum(rng.randn(500, 6), 0)\n",
    "\n",
    "# create figure\n",
    "fig, ax = plt.subplots()\n",
    "\n",
    "# generate line plot\n",
    "ax.plot(x, y)\n",
    "\n",
    "# create legend\n",
    "ax.legend('ABCDEF', ncol=2, loc='upper left')\n",
    "\n",
    "# show plot\n",
    "plt.show()"
   ]
  },
  {
   "cell_type": "markdown",
   "metadata": {},
   "source": [
    "83. An okay plot, but not particularly effective for this data.\n",
    "\n",
    "84. Let's generate the same plot with `seaborn` running on top of `matplotlib`."
   ]
  },
  {
   "cell_type": "code",
   "execution_count": null,
   "metadata": {},
   "outputs": [],
   "source": [
    "# import seaborn package\n",
    "import seaborn as sns\n",
    "\n",
    "# set seaborn  style\n",
    "sns.set()\n",
    "\n",
    "# create figure\n",
    "fig, ax = plt.subplots()\n",
    "\n",
    "# generate line plot\n",
    "ax.plot(x, y)\n",
    "\n",
    "# create legend\n",
    "ax.legend('ABCDEF', ncol=2, loc='upper left')\n",
    "\n",
    "# show plot\n",
    "plt.show()"
   ]
  },
  {
   "cell_type": "markdown",
   "metadata": {},
   "source": [
    "85. A simple way to incorporate `seaborn` with `matplotlib` is to use `seaborn`'s plot styling.\n",
    "\n",
    "86. `matplotlib` also has a few different style sheets based on `seaborn`.\n",
    "\n",
    "87. Let's look at a couple more sophisticated statistical plots built using `seaborn`.\n",
    "\n",
    "88. We can create a plot that highlights the relationship between resturaunt bill amount, tip, and meal time.\n",
    "\n",
    "89. This data comes from the `tips` example dataset already packaged in `seaborn`."
   ]
  },
  {
   "cell_type": "code",
   "execution_count": null,
   "metadata": {},
   "outputs": [],
   "source": [
    "# import seaborn\n",
    "import seaborn as sns\n",
    "\n",
    "# apply default seaborn theme\n",
    "sns.set_theme()\n",
    "\n",
    "# load dataset already stored as dataframe\n",
    "tips = sns.load_dataset(\"tips\")\n",
    "\n",
    "# create plot\n",
    "sns.relplot(data=tips, x=\"total_bill\", y=\"tip\", col=\"time\", hue=\"smoker\", style=\"smoker\", size=\"size\",)"
   ]
  },
  {
   "cell_type": "markdown",
   "metadata": {},
   "source": [
    "90. `seaborn` draws on `matplotlib`, but we don't need to directly load or import `matplotlib`.\n",
    "\n",
    "91. We load the `tips` dataset as a `DataFrame`.\n",
    "\n",
    "92. We then create a visualization that shows the relationships between the five dataset variables through the single call to the `.relplot()` function.\n",
    "\n",
    "93. We can start to think through all of the work happening behind the scenes in `matplotlib` to generate this visualization:\n",
    "- create figure/axes object with a 2, 1 subplot grid\n",
    "- create subplots\n",
    "- set tick values and labels for each axis for both subplots\n",
    "- set axis labels and plot titles for both subplots\n",
    "- set plot type for each subplot\n",
    "- set symbol types, color, and size for each type of datapoint, for each subplot\n",
    "- generate legend\n",
    "\n",
    "94. And the list goes on.\n",
    "\n",
    "95. `seaborn` handles all of those translations from the dataframe to `matplotlib` arguments.\n",
    "\n",
    "96. This simplifies the work of writing code to generate this plot.\n",
    "\n",
    "97. `seaborn`'s `.relplot()` function is designed to visualize statistical relationships.\n",
    "\n",
    "98. Sometimes scatterplots are the most effective way to show these relationships.\n",
    "\n",
    "99. But, in a relationship where one variable is a measure of time, a line can be a more effective representation.\n",
    "\n",
    "100. We can use the `kind` parameter with the `.relplot()` function to make this change.\n",
    "\n",
    "101. An example of `.relplot()` using a different sample dataset."
   ]
  },
  {
   "cell_type": "code",
   "execution_count": null,
   "metadata": {},
   "outputs": [],
   "source": [
    "# load sample dataset as dataframe\n",
    "dots = sns.load_dataset('dots')\n",
    "\n",
    "# creat line plot showing relationships\n",
    "sns.relplot(\n",
    "    data=dots, kind=\"line\",\n",
    "    x=\"time\", y=\"firing_rate\", col=\"align\",\n",
    "    hue=\"choice\", size=\"coherence\", style=\"choice\",\n",
    "    facet_kws=dict(sharex=False),\n",
    ")"
   ]
  },
  {
   "cell_type": "markdown",
   "metadata": {},
   "source": [
    "102. In this example, the `style` parameter impacted line weight and style, rather than marker size as it did in the previous example.\n",
    "\n",
    "103. A few other `seaborn` examples.\n",
    "\n",
    "104. Relationship plot that presents average of one variable as a function of other variables."
   ]
  },
  {
   "cell_type": "code",
   "execution_count": null,
   "metadata": {},
   "outputs": [],
   "source": [
    "fmri = sns.load_dataset(\"fmri\")\n",
    "sns.relplot(\n",
    "    data=fmri, kind=\"line\",\n",
    "    x=\"timepoint\", y=\"signal\", col=\"region\",\n",
    "    hue=\"event\", style=\"event\",\n",
    ")"
   ]
  },
  {
   "cell_type": "markdown",
   "metadata": {},
   "source": [
    "105. `seaborn` estimates the statistical values using bootstrapping to compute confidence intervals and draw error bars to show uncertainty.\n",
    "\n",
    "106. We could go back to our bill and tip data to generate a scatterplot that includes a linear regression model."
   ]
  },
  {
   "cell_type": "code",
   "execution_count": null,
   "metadata": {},
   "outputs": [],
   "source": [
    "sns.lmplot(data=tips, x=\"total_bill\", y=\"tip\", col=\"time\", hue=\"smoker\")"
   ]
  },
  {
   "cell_type": "markdown",
   "metadata": {},
   "source": [
    "107. We can visualize variable distribution with kernel density estimation."
   ]
  },
  {
   "cell_type": "code",
   "execution_count": null,
   "metadata": {},
   "outputs": [],
   "source": [
    "sns.displot(data=tips, x=\"total_bill\", col=\"time\", kde=True)"
   ]
  },
  {
   "cell_type": "markdown",
   "metadata": {},
   "source": [
    "108. `seaborn` can also calculate and plot the empirical cumulative distribution function (`ecdf`)."
   ]
  },
  {
   "cell_type": "code",
   "execution_count": null,
   "metadata": {},
   "outputs": [],
   "source": [
    "sns.displot(data=tips, kind=\"ecdf\", x=\"total_bill\", col=\"time\", hue=\"smoker\", rug=True)"
   ]
  },
  {
   "cell_type": "markdown",
   "metadata": {},
   "source": [
    "109. We can also generate plots that are geared toward categorical data.\n",
    "\n",
    "110. A `swarm` plot is a scatterplot with adjusted point positions on the categorical axis to minimize overlap"
   ]
  },
  {
   "cell_type": "code",
   "execution_count": null,
   "metadata": {},
   "outputs": [],
   "source": [
    "sns.catplot(data=tips, kind=\"swarm\", x=\"day\", y=\"total_bill\", hue=\"smoker\")"
   ]
  },
  {
   "cell_type": "markdown",
   "metadata": {},
   "source": [
    "111. We could also display this categorical data using kernel density estimation and a violin plot."
   ]
  },
  {
   "cell_type": "code",
   "execution_count": null,
   "metadata": {},
   "outputs": [],
   "source": [
    "sns.catplot(data=tips, kind=\"violin\", x=\"day\", y=\"total_bill\", hue=\"smoker\", split=True)"
   ]
  },
  {
   "cell_type": "markdown",
   "metadata": {},
   "source": [
    "112. We could also display this data with a grouped bar chart that shows mean values and confidence intervals for each category."
   ]
  },
  {
   "cell_type": "code",
   "execution_count": null,
   "metadata": {},
   "outputs": [],
   "source": [
    "sns.catplot(data=tips, kind=\"bar\", x=\"day\", y=\"total_bill\", hue=\"smoker\")"
   ]
  },
  {
   "cell_type": "markdown",
   "metadata": {},
   "source": [
    "113. This is just a taste of how `seaborn` works to generate more advanced statistical plots.\n",
    "\n",
    "114. Because the package integrates with `matplotlib`, customizing `seaborn` plots requires knowledge of `matplotlib` functionality and syntax.\n",
    "\n",
    "115. Dropping down to the `matplotlib` layer is not always necessary (as shown in these examples), but a robust `matplotlib` foundation is knowledge that transfers when working with `seaborn`.\n",
    "\n",
    "116. For more on `seaborn`:\n",
    "- [`seaborn`, \"seaborn: statistical data visualization\"](http://seaborn.pydata.org/)\n",
    "- [`seaborn`, \"Installing and getting started\"](https://seaborn.pydata.org/installing.html)\n",
    "- [`seaborn`, \"An introduction to seaborn\"](http://seaborn.pydata.org/introduction.html)\n",
    "- [`seaborn`, \"User guide and tutorial\"](http://seaborn.pydata.org/tutorial.html)\n",
    "- [`seaborn`, \"Example gallery\"](https://seaborn.pydata.org/examples/index.html)\n",
    "- [`seaborn`, \"API reference\"](https://seaborn.pydata.org/api.html)\n",
    "- [Jake VanderPlas, \"Visualization With Seaborn\" from *Python Data Science Handbook*](https://jakevdp.github.io/PythonDataScienceHandbook/04.14-visualization-with-seaborn.html)"
   ]
  },
  {
   "cell_type": "markdown",
   "metadata": {},
   "source": [
    "<blockquote>Q2: Build at least two different types of plots using seaborn and data stored in a Pandas DataFrame. Include code + comments.\n",
    " \n",
    "Each plot should include the following elements:\n",
    " <ul>\n",
    "  <li>Title</li>\n",
    "  <li>Axis labels</li>\n",
    "  <li>Legend</li>\n",
    "  <li>Scale or tickmarks</li>\n",
    "  <li>Data source</li>\n",
    " </ul>\n",
    " \n",
    "Plot types to choose from:\n",
    " <ul>\n",
    " <li>Line plots</li>\n",
    " <li>Bar chart</li>\n",
    " <li>Grouped bar chart</li>\n",
    " <li>Horizontal bar chart</li>\n",
    " <li>Stacked bar chart</li>\n",
    " <li>Histogram</li>\n",
    " <li>Box plot</li>\n",
    " <li>Area plot</li>\n",
    " <li>Scatter plot</li>\n",
    " <li>Pie chart</li>\n",
    " </ul>\n",
    " </blockquote>"
   ]
  },
  {
   "cell_type": "markdown",
   "metadata": {},
   "source": [
    "# Project Prompts\n",
    "\n",
    "No problem prompts for this lab. Spend this time working on the final project.\n",
    "\n",
    "# Lab Notebook Questions\n",
    "\n",
    "Q1: Build at least three different types of plots using matplotlib and data stored in a Pandas DataFrame. Include code + comments. \n",
    "\n",
    "Each plot should include the following elements:\n",
    "- Title\n",
    "- Axis labels\n",
    "- Legend\n",
    "- Scale or tickmarks\n",
    "- Data source\n",
    " \n",
    "Plot types to choose from:\n",
    "- Line plots\n",
    "- Bar chart\n",
    "- Grouped bar chart\n",
    "- Horizontal bar chart\n",
    "- Stacked bar chart\n",
    "- Histogram\n",
    "- Box plot\n",
    "- Area plot\n",
    "- Scatter plot\n",
    "- Pie chart\n",
    "\n",
    "Q2: Build at least two different types of plots using seaborn and data stored in a Pandas DataFrame. Include code + comments.\n",
    "\n",
    "Each plot should include the following elements:\n",
    "- Title\n",
    "- Axis labels\n",
    "- Legend\n",
    "- Scale or tickmarks\n",
    "- Data source\n",
    " \n",
    "Plot types to choose from:\n",
    "- Line plots\n",
    "- Bar chart\n",
    "- Grouped bar chart\n",
    "- Horizontal bar chart\n",
    "- Stacked bar chart\n",
    "- Histogram\n",
    "- Box plot\n",
    "- Area plot\n",
    "- Scatter plot\n",
    "- Pie chart"
   ]
  }
 ],
 "metadata": {
  "kernelspec": {
   "display_name": "Python 3",
   "language": "python",
   "name": "python3"
  },
  "language_info": {
   "codemirror_mode": {
    "name": "ipython",
    "version": 3
   },
   "file_extension": ".py",
   "mimetype": "text/x-python",
   "name": "python",
   "nbconvert_exporter": "python",
   "pygments_lexer": "ipython3",
   "version": "3.8.5"
  }
 },
 "nbformat": 4,
 "nbformat_minor": 4
}
